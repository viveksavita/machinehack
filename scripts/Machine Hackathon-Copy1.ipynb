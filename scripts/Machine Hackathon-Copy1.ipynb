{
 "cells": [
  {
   "cell_type": "code",
   "execution_count": 1,
   "metadata": {},
   "outputs": [],
   "source": [
    "import pandas as pd\n",
    "import numpy as np\n",
    "import pandas_profiling \n",
    "from matplotlib import pyplot as plt\n",
    "from datetime import datetime"
   ]
  },
  {
   "cell_type": "code",
   "execution_count": 111,
   "metadata": {},
   "outputs": [
    {
     "name": "stdout",
     "output_type": "stream",
     "text": [
      "   InvoiceNo  StockCode  Description  Quantity          InvoiceDate  \\\n",
      "0       6141       1583          144         3  2011-05-06 16:54:00   \n",
      "1       6349       1300         3682         6  2011-05-11 07:35:00   \n",
      "2      16783       2178         1939         4  2011-11-20 13:20:00   \n",
      "3      16971       2115         2983         1  2011-11-22 12:07:00   \n",
      "4       6080       1210         2886        12  2011-05-06 09:00:00   \n",
      "\n",
      "   UnitPrice  CustomerID  Country  \n",
      "0       3.75     14056.0       35  \n",
      "1       1.95     13098.0       35  \n",
      "2       5.95     15044.0       35  \n",
      "3       0.83     15525.0       35  \n",
      "4       1.65     13952.0       35  \n",
      "   InvoiceNo  StockCode  Description  Quantity          InvoiceDate  \\\n",
      "0       3139       1709         1079         3  2011-02-22 15:22:00   \n",
      "1        617        510         3457         1  2010-12-08 12:46:00   \n",
      "2      14653        604          694        36  2011-10-25 13:53:00   \n",
      "3       8634       1478         3473         2  2011-06-27 12:38:00   \n",
      "4      15546       3216          871         1  2011-11-06 16:14:00   \n",
      "\n",
      "   CustomerID  Country  \n",
      "0     16161.0       35  \n",
      "1     17341.0       35  \n",
      "2     15158.0       35  \n",
      "3     16033.0       35  \n",
      "4     15351.0       35  \n"
     ]
    }
   ],
   "source": [
    "df = pd.read_csv(r\"/Users/viveksavita/Downloads/Participants_Data_TGIH/train.csv\")\n",
    "df_test = pd.read_csv(r\"/Users/viveksavita/Downloads/Participants_Data_TGIH/test.csv\")\n",
    "\n",
    "print(df.head())\n",
    "print(df_test.head())"
   ]
  },
  {
   "cell_type": "code",
   "execution_count": 112,
   "metadata": {},
   "outputs": [
    {
     "name": "stdout",
     "output_type": "stream",
     "text": [
      "282159\n",
      "        StockCode  Description  Quantity          InvoiceDate  UnitPrice  \\\n",
      "0            1583          144         3  2011-05-06 16:54:00       3.75   \n",
      "1            1300         3682         6  2011-05-11 07:35:00       1.95   \n",
      "2            2178         1939         4  2011-11-20 13:20:00       5.95   \n",
      "3            2115         2983         1  2011-11-22 12:07:00       0.83   \n",
      "4            1210         2886        12  2011-05-06 09:00:00       1.65   \n",
      "...           ...          ...       ...                  ...        ...   \n",
      "282154       1706         1081         6  2011-03-01 12:07:00       1.65   \n",
      "282155       2184         2947        16  2011-10-13 15:08:00       0.65   \n",
      "282156        667         3632         4  2011-05-16 12:59:00       8.50   \n",
      "282157       1576         3089        48  2011-10-11 14:18:00       3.45   \n",
      "282158       2603         1156         2  2011-08-22 13:30:00       0.75   \n",
      "\n",
      "        CustomerID  Country  \n",
      "0          14056.0       35  \n",
      "1          13098.0       35  \n",
      "2          15044.0       35  \n",
      "3          15525.0       35  \n",
      "4          13952.0       35  \n",
      "...            ...      ...  \n",
      "282154     17965.0       35  \n",
      "282155     16793.0       35  \n",
      "282156     14755.0       35  \n",
      "282157     14866.0       35  \n",
      "282158     17585.0       35  \n",
      "\n",
      "[282159 rows x 7 columns]\n",
      "Index(['StockCode', 'Description', 'Quantity', 'InvoiceDate', 'UnitPrice',\n",
      "       'CustomerID', 'Country'],\n",
      "      dtype='object')\n"
     ]
    }
   ],
   "source": [
    "df.drop_duplicates(inplace=True)\n",
    "print(len(df))\n",
    "df_1 = df.copy()\n",
    "df_1.reset_index(drop = True, inplace=True )\n",
    "\n",
    "df_1.drop(columns=['InvoiceNo'], axis=1, inplace=True)\n",
    "df_1.describe()\n",
    "print(df_1)\n",
    "\n",
    "df_1_col = df_1.columns\n",
    "print(df_1_col)"
   ]
  },
  {
   "cell_type": "code",
   "execution_count": 113,
   "metadata": {},
   "outputs": [
    {
     "name": "stdout",
     "output_type": "stream",
     "text": [
      "[[7.]\n",
      " [5.]\n",
      " [8.]\n",
      " ...\n",
      " [9.]\n",
      " [7.]\n",
      " [1.]]\n",
      "        label\n",
      "0         7.0\n",
      "1         5.0\n",
      "2         8.0\n",
      "3         1.0\n",
      "4         4.0\n",
      "...       ...\n",
      "282154    4.0\n",
      "282155    1.0\n",
      "282156    9.0\n",
      "282157    7.0\n",
      "282158    1.0\n",
      "\n",
      "[282159 rows x 1 columns]\n",
      "        StockCode  Description  Quantity          InvoiceDate  UnitPrice  \\\n",
      "0            1583          144         3  2011-05-06 16:54:00       3.75   \n",
      "1            1300         3682         6  2011-05-11 07:35:00       1.95   \n",
      "2            2178         1939         4  2011-11-20 13:20:00       5.95   \n",
      "3            2115         2983         1  2011-11-22 12:07:00       0.83   \n",
      "4            1210         2886        12  2011-05-06 09:00:00       1.65   \n",
      "...           ...          ...       ...                  ...        ...   \n",
      "282154       1706         1081         6  2011-03-01 12:07:00       1.65   \n",
      "282155       2184         2947        16  2011-10-13 15:08:00       0.65   \n",
      "282156        667         3632         4  2011-05-16 12:59:00       8.50   \n",
      "282157       1576         3089        48  2011-10-11 14:18:00       3.45   \n",
      "282158       2603         1156         2  2011-08-22 13:30:00       0.75   \n",
      "\n",
      "        CustomerID  Country  label  \n",
      "0          14056.0       35    7.0  \n",
      "1          13098.0       35    5.0  \n",
      "2          15044.0       35    8.0  \n",
      "3          15525.0       35    1.0  \n",
      "4          13952.0       35    4.0  \n",
      "...            ...      ...    ...  \n",
      "282154     17965.0       35    4.0  \n",
      "282155     16793.0       35    1.0  \n",
      "282156     14755.0       35    9.0  \n",
      "282157     14866.0       35    7.0  \n",
      "282158     17585.0       35    1.0  \n",
      "\n",
      "[282159 rows x 8 columns]\n"
     ]
    }
   ],
   "source": [
    "\n",
    "\n",
    "from sklearn.model_selection import KFold\n",
    "from sklearn.model_selection import cross_val_score\n",
    "from sklearn.preprocessing import KBinsDiscretizer\n",
    "kbins = KBinsDiscretizer(n_bins=10, encode='ordinal', strategy='quantile')\n",
    "data_trans = kbins.fit_transform(pd.DataFrame(df_1[\"UnitPrice\"]))\n",
    "print(data_trans)\n",
    "bins = pd.DataFrame(data_trans, columns=['label'])\n",
    "bins.reset_index(inplace=True , drop=True)\n",
    "print(bins)\n",
    "df_1 = pd.concat([df_1 , bins], axis=1 , join = 'inner' )\n",
    "print(df_1)\n",
    "\n",
    "\n"
   ]
  },
  {
   "cell_type": "code",
   "execution_count": 114,
   "metadata": {},
   "outputs": [
    {
     "data": {
      "text/plain": [
       "array([array([0.000e+00, 5.500e-01, 8.500e-01, 1.250e+00, 1.650e+00, 1.950e+00,\n",
       "       2.100e+00, 2.950e+00, 4.150e+00, 6.750e+00, 3.897e+04])],\n",
       "      dtype=object)"
      ]
     },
     "execution_count": 114,
     "metadata": {},
     "output_type": "execute_result"
    }
   ],
   "source": [
    "kbins.bin_edges_"
   ]
  },
  {
   "cell_type": "code",
   "execution_count": 115,
   "metadata": {},
   "outputs": [
    {
     "name": "stdout",
     "output_type": "stream",
     "text": [
      "        StockCode  Description  Quantity          InvoiceDate  UnitPrice  \\\n",
      "0            1583          144         3  2011-05-06 16:54:00       3.75   \n",
      "1            1300         3682         6  2011-05-11 07:35:00       1.95   \n",
      "2            2178         1939         4  2011-11-20 13:20:00       5.95   \n",
      "3            2115         2983         1  2011-11-22 12:07:00       0.83   \n",
      "4            1210         2886        12  2011-05-06 09:00:00       1.65   \n",
      "...           ...          ...       ...                  ...        ...   \n",
      "282154       1706         1081         6  2011-03-01 12:07:00       1.65   \n",
      "282155       2184         2947        16  2011-10-13 15:08:00       0.65   \n",
      "282156        667         3632         4  2011-05-16 12:59:00       8.50   \n",
      "282157       1576         3089        48  2011-10-11 14:18:00       3.45   \n",
      "282158       2603         1156         2  2011-08-22 13:30:00       0.75   \n",
      "\n",
      "        CustomerID  Country  label      key  \n",
      "0          14056.0       35    7.0  15837.0  \n",
      "1          13098.0       35    5.0  13005.0  \n",
      "2          15044.0       35    8.0  21788.0  \n",
      "3          15525.0       35    1.0  21151.0  \n",
      "4          13952.0       35    4.0  12104.0  \n",
      "...            ...      ...    ...      ...  \n",
      "282154     17965.0       35    4.0  17064.0  \n",
      "282155     16793.0       35    1.0  21841.0  \n",
      "282156     14755.0       35    9.0   6679.0  \n",
      "282157     14866.0       35    7.0  15767.0  \n",
      "282158     17585.0       35    1.0  26031.0  \n",
      "\n",
      "[282159 rows x 9 columns]\n"
     ]
    }
   ],
   "source": [
    "df_1[\"key\"] = df_1.StockCode.astype(str) + df_1.label.astype(str) \n",
    "print(df_1)\n",
    "\n",
    "\n",
    "                                        "
   ]
  },
  {
   "cell_type": "code",
   "execution_count": 124,
   "metadata": {},
   "outputs": [],
   "source": [
    "#df_1.groupby(['key','StockCode'])['UnitPrice'].count()\n",
    "\n",
    "from scipy import stats \n",
    "\n",
    "df_1['zscore']= stats.zscore(df['UnitPrice'])\n",
    "\n",
    "df_1 = df_1[df_1['zscore'].abs()< 4]"
   ]
  },
  {
   "cell_type": "code",
   "execution_count": 125,
   "metadata": {},
   "outputs": [
    {
     "name": "stdout",
     "output_type": "stream",
     "text": [
      "StockCode\n",
      "0        0.850000\n",
      "1        0.422857\n",
      "2        0.210000\n",
      "3        0.650000\n",
      "4        0.420000\n",
      "          ...    \n",
      "3679    42.348085\n",
      "3680    13.596667\n",
      "3681    26.820524\n",
      "3682     0.000750\n",
      "3683    22.146117\n",
      "Name: UnitPrice, Length: 3619, dtype: float64\n",
      "Country\n",
      "0     3.049275\n",
      "1     4.387855\n",
      "2     4.390000\n",
      "3     3.632718\n",
      "4     4.413000\n",
      "5     2.231604\n",
      "6     5.141642\n",
      "7     5.653684\n",
      "8     2.955769\n",
      "9     3.311722\n",
      "10    4.074869\n",
      "11    4.676250\n",
      "12    5.600327\n",
      "13    3.350559\n",
      "14    3.531102\n",
      "15    5.622772\n",
      "16    2.719924\n",
      "17    4.114239\n",
      "18    4.275758\n",
      "19    2.343739\n",
      "20    6.126471\n",
      "21    2.825600\n",
      "22    5.675281\n",
      "23    2.644113\n",
      "24    5.066662\n",
      "25    4.159426\n",
      "26    3.630675\n",
      "27    4.545745\n",
      "28    1.958750\n",
      "29    7.591103\n",
      "30    3.856177\n",
      "31    3.805864\n",
      "32    3.405893\n",
      "33    2.222000\n",
      "34    3.108269\n",
      "35    2.914963\n",
      "36    3.442426\n",
      "Name: UnitPrice, dtype: float64\n"
     ]
    },
    {
     "name": "stderr",
     "output_type": "stream",
     "text": [
      "/opt/anaconda3/lib/python3.8/site-packages/pandas/core/indexing.py:494: SettingWithCopyWarning: \n",
      "A value is trying to be set on a copy of a slice from a DataFrame.\n",
      "Try using .loc[row_indexer,col_indexer] = value instead\n",
      "\n",
      "See the caveats in the documentation: http://pandas.pydata.org/pandas-docs/stable/user_guide/indexing.html#returning-a-view-versus-a-copy\n",
      "  self.obj[item] = s\n"
     ]
    }
   ],
   "source": [
    "\n",
    "#print(df_1.dtypes)\n",
    "#df_1[\"invoice_month\"] = df_1[\"InvoiceDate\"].dt.month\n",
    "#df_1[\"invoice_year\"] = df_1[\"InvoiceDate\"].dt.year\n",
    "\n",
    "\n",
    "stockcodemean = df_1.groupby(['StockCode'])['UnitPrice'].mean()\n",
    "print(stockcodemean)\n",
    "countrymean = df_1.groupby(['Country'])['UnitPrice'].mean()\n",
    "print(countrymean)\n",
    "\n",
    "df_1.loc[:, \"stockcodeencoded\"] = df_1['StockCode'].map(stockcodemean)\n",
    "df_1.loc[:, \"countryencoded\"] = df_1['Country'].map(countrymean)\n",
    "\n",
    "\n",
    "df_test.loc[:, \"stockcodeencoded\"] = df_1['StockCode'].map(stockcodemean)\n",
    "df_test.loc[:, \"countryencoded\"] = df_1['Country'].map(countrymean)\n"
   ]
  },
  {
   "cell_type": "code",
   "execution_count": 126,
   "metadata": {},
   "outputs": [],
   "source": [
    "#print(df_test)\n",
    "#df_1.to_csv(r\"/Users/viveksavita/new_data.csv\")"
   ]
  },
  {
   "cell_type": "code",
   "execution_count": 127,
   "metadata": {},
   "outputs": [],
   "source": [
    "cat_col = []#,'invoice_month','invoice_year']  #['StockCode','Description','CustomerID','Country' ] #,'invoice_month','invoice_year']\n",
    "con_col = ['Quantity','stockcodeencoded','countryencoded']\n",
    "target = ['UnitPrice']\n"
   ]
  },
  {
   "cell_type": "code",
   "execution_count": 128,
   "metadata": {},
   "outputs": [
    {
     "name": "stdout",
     "output_type": "stream",
     "text": [
      "['Quantity', 'stockcodeencoded', 'countryencoded']\n",
      "   Quantity  stockcodeencoded  countryencoded\n",
      "0         3          3.745719        2.914963\n",
      "1         6          1.973005        2.914963\n",
      "2         4          5.895338        2.914963\n",
      "3         1          0.824939        2.914963\n",
      "4        12          1.635841        2.914963\n",
      "   UnitPrice\n",
      "0       3.75\n",
      "1       1.95\n",
      "2       5.95\n",
      "3       0.83\n",
      "4       1.65\n"
     ]
    }
   ],
   "source": [
    "from sklearn.pipeline import Pipeline\n",
    "from sklearn.model_selection import train_test_split\n",
    "\n",
    "features = cat_col + con_col\n",
    "print(features)\n",
    "\n",
    "df_feature = df_1[features]\n",
    "df_label = df_1[target]\n",
    "\n",
    "print(df_feature.head())\n",
    "print(df_label.head())\n",
    "\n",
    "\n",
    "\n",
    "df_test_feature = df_test[features]\n",
    "\n"
   ]
  },
  {
   "cell_type": "code",
   "execution_count": 129,
   "metadata": {},
   "outputs": [
    {
     "name": "stdout",
     "output_type": "stream",
     "text": [
      "        Quantity  stockcodeencoded  countryencoded\n",
      "0              3          3.745719        2.914963\n",
      "1              1          1.973005        2.914963\n",
      "2             36          5.895338        2.914963\n",
      "3              2          0.824939        2.914963\n",
      "4              1          1.635841        2.914963\n",
      "...          ...               ...             ...\n",
      "122044        12          0.431496        2.914963\n",
      "122045        16          1.258647        4.074869\n",
      "122046         6          1.261797        2.914963\n",
      "122047         1          0.640821        2.914963\n",
      "122048         3          9.862500        2.914963\n",
      "\n",
      "[122049 rows x 3 columns]\n"
     ]
    }
   ],
   "source": [
    "print(df_test_feature)"
   ]
  },
  {
   "cell_type": "code",
   "execution_count": 138,
   "metadata": {},
   "outputs": [],
   "source": [
    "# Train and test split\n",
    "X_train, X_test,y_train,y_test = train_test_split(df_feature,df_label, random_state=20)\n",
    "\n",
    "\n",
    "from sklearn.preprocessing import StandardScaler , OneHotEncoder \n",
    "from sklearn.compose import ColumnTransformer\n",
    "from sklearn.linear_model import LinearRegression\n",
    "from sklearn.linear_model import Lasso\n",
    "from sklearn.linear_model import ElasticNet\n",
    "from sklearn.tree import DecisionTreeRegressor\n",
    "from sklearn.neighbors import KNeighborsRegressor\n",
    "from sklearn.ensemble import GradientBoostingRegressor\n",
    "from sklearn import metrics \n",
    "from sklearn.model_selection import cross_val_predict"
   ]
  },
  {
   "cell_type": "code",
   "execution_count": 140,
   "metadata": {},
   "outputs": [
    {
     "name": "stderr",
     "output_type": "stream",
     "text": [
      "/opt/anaconda3/lib/python3.8/site-packages/sklearn/model_selection/_split.py:292: FutureWarning: Setting a random_state has no effect since shuffle is False. This will raise an error in 0.24. You should leave random_state to its default (None), or set shuffle=True.\n",
      "  warnings.warn(\n"
     ]
    },
    {
     "ename": "ValueError",
     "evalue": "Found array with 0 feature(s) (shape=(225668, 0)) while a minimum of 1 is required.",
     "output_type": "error",
     "traceback": [
      "\u001b[0;31m---------------------------------------------------------------------------\u001b[0m",
      "\u001b[0;31mValueError\u001b[0m                                Traceback (most recent call last)",
      "\u001b[0;32m<ipython-input-140-35fbcbb93f80>\u001b[0m in \u001b[0;36m<module>\u001b[0;34m\u001b[0m\n\u001b[1;32m     32\u001b[0m                \u001b[0;34m(\u001b[0m\u001b[0;34m'regression'\u001b[0m\u001b[0;34m,\u001b[0m    \u001b[0mreg\u001b[0m\u001b[0;34m)\u001b[0m\u001b[0;34m\u001b[0m\u001b[0;34m\u001b[0m\u001b[0m\n\u001b[1;32m     33\u001b[0m               ])\n\u001b[0;32m---> 34\u001b[0;31m     \u001b[0my_pred\u001b[0m \u001b[0;34m=\u001b[0m \u001b[0mcross_val_predict\u001b[0m\u001b[0;34m(\u001b[0m\u001b[0mlr\u001b[0m\u001b[0;34m,\u001b[0m \u001b[0mdf_feature\u001b[0m\u001b[0;34m,\u001b[0m \u001b[0mdf_label\u001b[0m\u001b[0;34m,\u001b[0m \u001b[0mcv\u001b[0m\u001b[0;34m=\u001b[0m\u001b[0;36m5\u001b[0m\u001b[0;34m)\u001b[0m\u001b[0;34m\u001b[0m\u001b[0;34m\u001b[0m\u001b[0m\n\u001b[0m\u001b[1;32m     35\u001b[0m \u001b[0;34m\u001b[0m\u001b[0m\n\u001b[1;32m     36\u001b[0m     \u001b[0;31m#print(scores)\u001b[0m\u001b[0;34m\u001b[0m\u001b[0;34m\u001b[0m\u001b[0;34m\u001b[0m\u001b[0m\n",
      "\u001b[0;32m/opt/anaconda3/lib/python3.8/site-packages/sklearn/model_selection/_validation.py\u001b[0m in \u001b[0;36mcross_val_predict\u001b[0;34m(estimator, X, y, groups, cv, n_jobs, verbose, fit_params, pre_dispatch, method)\u001b[0m\n\u001b[1;32m    751\u001b[0m     parallel = Parallel(n_jobs=n_jobs, verbose=verbose,\n\u001b[1;32m    752\u001b[0m                         pre_dispatch=pre_dispatch)\n\u001b[0;32m--> 753\u001b[0;31m     prediction_blocks = parallel(delayed(_fit_and_predict)(\n\u001b[0m\u001b[1;32m    754\u001b[0m         clone(estimator), X, y, train, test, verbose, fit_params, method)\n\u001b[1;32m    755\u001b[0m         for train, test in cv.split(X, y, groups))\n",
      "\u001b[0;32m/opt/anaconda3/lib/python3.8/site-packages/joblib/parallel.py\u001b[0m in \u001b[0;36m__call__\u001b[0;34m(self, iterable)\u001b[0m\n\u001b[1;32m   1002\u001b[0m             \u001b[0;31m# remaining jobs.\u001b[0m\u001b[0;34m\u001b[0m\u001b[0;34m\u001b[0m\u001b[0;34m\u001b[0m\u001b[0m\n\u001b[1;32m   1003\u001b[0m             \u001b[0mself\u001b[0m\u001b[0;34m.\u001b[0m\u001b[0m_iterating\u001b[0m \u001b[0;34m=\u001b[0m \u001b[0;32mFalse\u001b[0m\u001b[0;34m\u001b[0m\u001b[0;34m\u001b[0m\u001b[0m\n\u001b[0;32m-> 1004\u001b[0;31m             \u001b[0;32mif\u001b[0m \u001b[0mself\u001b[0m\u001b[0;34m.\u001b[0m\u001b[0mdispatch_one_batch\u001b[0m\u001b[0;34m(\u001b[0m\u001b[0miterator\u001b[0m\u001b[0;34m)\u001b[0m\u001b[0;34m:\u001b[0m\u001b[0;34m\u001b[0m\u001b[0;34m\u001b[0m\u001b[0m\n\u001b[0m\u001b[1;32m   1005\u001b[0m                 \u001b[0mself\u001b[0m\u001b[0;34m.\u001b[0m\u001b[0m_iterating\u001b[0m \u001b[0;34m=\u001b[0m \u001b[0mself\u001b[0m\u001b[0;34m.\u001b[0m\u001b[0m_original_iterator\u001b[0m \u001b[0;32mis\u001b[0m \u001b[0;32mnot\u001b[0m \u001b[0;32mNone\u001b[0m\u001b[0;34m\u001b[0m\u001b[0;34m\u001b[0m\u001b[0m\n\u001b[1;32m   1006\u001b[0m \u001b[0;34m\u001b[0m\u001b[0m\n",
      "\u001b[0;32m/opt/anaconda3/lib/python3.8/site-packages/joblib/parallel.py\u001b[0m in \u001b[0;36mdispatch_one_batch\u001b[0;34m(self, iterator)\u001b[0m\n\u001b[1;32m    833\u001b[0m                 \u001b[0;32mreturn\u001b[0m \u001b[0;32mFalse\u001b[0m\u001b[0;34m\u001b[0m\u001b[0;34m\u001b[0m\u001b[0m\n\u001b[1;32m    834\u001b[0m             \u001b[0;32melse\u001b[0m\u001b[0;34m:\u001b[0m\u001b[0;34m\u001b[0m\u001b[0;34m\u001b[0m\u001b[0m\n\u001b[0;32m--> 835\u001b[0;31m                 \u001b[0mself\u001b[0m\u001b[0;34m.\u001b[0m\u001b[0m_dispatch\u001b[0m\u001b[0;34m(\u001b[0m\u001b[0mtasks\u001b[0m\u001b[0;34m)\u001b[0m\u001b[0;34m\u001b[0m\u001b[0;34m\u001b[0m\u001b[0m\n\u001b[0m\u001b[1;32m    836\u001b[0m                 \u001b[0;32mreturn\u001b[0m \u001b[0;32mTrue\u001b[0m\u001b[0;34m\u001b[0m\u001b[0;34m\u001b[0m\u001b[0m\n\u001b[1;32m    837\u001b[0m \u001b[0;34m\u001b[0m\u001b[0m\n",
      "\u001b[0;32m/opt/anaconda3/lib/python3.8/site-packages/joblib/parallel.py\u001b[0m in \u001b[0;36m_dispatch\u001b[0;34m(self, batch)\u001b[0m\n\u001b[1;32m    752\u001b[0m         \u001b[0;32mwith\u001b[0m \u001b[0mself\u001b[0m\u001b[0;34m.\u001b[0m\u001b[0m_lock\u001b[0m\u001b[0;34m:\u001b[0m\u001b[0;34m\u001b[0m\u001b[0;34m\u001b[0m\u001b[0m\n\u001b[1;32m    753\u001b[0m             \u001b[0mjob_idx\u001b[0m \u001b[0;34m=\u001b[0m \u001b[0mlen\u001b[0m\u001b[0;34m(\u001b[0m\u001b[0mself\u001b[0m\u001b[0;34m.\u001b[0m\u001b[0m_jobs\u001b[0m\u001b[0;34m)\u001b[0m\u001b[0;34m\u001b[0m\u001b[0;34m\u001b[0m\u001b[0m\n\u001b[0;32m--> 754\u001b[0;31m             \u001b[0mjob\u001b[0m \u001b[0;34m=\u001b[0m \u001b[0mself\u001b[0m\u001b[0;34m.\u001b[0m\u001b[0m_backend\u001b[0m\u001b[0;34m.\u001b[0m\u001b[0mapply_async\u001b[0m\u001b[0;34m(\u001b[0m\u001b[0mbatch\u001b[0m\u001b[0;34m,\u001b[0m \u001b[0mcallback\u001b[0m\u001b[0;34m=\u001b[0m\u001b[0mcb\u001b[0m\u001b[0;34m)\u001b[0m\u001b[0;34m\u001b[0m\u001b[0;34m\u001b[0m\u001b[0m\n\u001b[0m\u001b[1;32m    755\u001b[0m             \u001b[0;31m# A job can complete so quickly than its callback is\u001b[0m\u001b[0;34m\u001b[0m\u001b[0;34m\u001b[0m\u001b[0;34m\u001b[0m\u001b[0m\n\u001b[1;32m    756\u001b[0m             \u001b[0;31m# called before we get here, causing self._jobs to\u001b[0m\u001b[0;34m\u001b[0m\u001b[0;34m\u001b[0m\u001b[0;34m\u001b[0m\u001b[0m\n",
      "\u001b[0;32m/opt/anaconda3/lib/python3.8/site-packages/joblib/_parallel_backends.py\u001b[0m in \u001b[0;36mapply_async\u001b[0;34m(self, func, callback)\u001b[0m\n\u001b[1;32m    207\u001b[0m     \u001b[0;32mdef\u001b[0m \u001b[0mapply_async\u001b[0m\u001b[0;34m(\u001b[0m\u001b[0mself\u001b[0m\u001b[0;34m,\u001b[0m \u001b[0mfunc\u001b[0m\u001b[0;34m,\u001b[0m \u001b[0mcallback\u001b[0m\u001b[0;34m=\u001b[0m\u001b[0;32mNone\u001b[0m\u001b[0;34m)\u001b[0m\u001b[0;34m:\u001b[0m\u001b[0;34m\u001b[0m\u001b[0;34m\u001b[0m\u001b[0m\n\u001b[1;32m    208\u001b[0m         \u001b[0;34m\"\"\"Schedule a func to be run\"\"\"\u001b[0m\u001b[0;34m\u001b[0m\u001b[0;34m\u001b[0m\u001b[0m\n\u001b[0;32m--> 209\u001b[0;31m         \u001b[0mresult\u001b[0m \u001b[0;34m=\u001b[0m \u001b[0mImmediateResult\u001b[0m\u001b[0;34m(\u001b[0m\u001b[0mfunc\u001b[0m\u001b[0;34m)\u001b[0m\u001b[0;34m\u001b[0m\u001b[0;34m\u001b[0m\u001b[0m\n\u001b[0m\u001b[1;32m    210\u001b[0m         \u001b[0;32mif\u001b[0m \u001b[0mcallback\u001b[0m\u001b[0;34m:\u001b[0m\u001b[0;34m\u001b[0m\u001b[0;34m\u001b[0m\u001b[0m\n\u001b[1;32m    211\u001b[0m             \u001b[0mcallback\u001b[0m\u001b[0;34m(\u001b[0m\u001b[0mresult\u001b[0m\u001b[0;34m)\u001b[0m\u001b[0;34m\u001b[0m\u001b[0;34m\u001b[0m\u001b[0m\n",
      "\u001b[0;32m/opt/anaconda3/lib/python3.8/site-packages/joblib/_parallel_backends.py\u001b[0m in \u001b[0;36m__init__\u001b[0;34m(self, batch)\u001b[0m\n\u001b[1;32m    588\u001b[0m         \u001b[0;31m# Don't delay the application, to avoid keeping the input\u001b[0m\u001b[0;34m\u001b[0m\u001b[0;34m\u001b[0m\u001b[0;34m\u001b[0m\u001b[0m\n\u001b[1;32m    589\u001b[0m         \u001b[0;31m# arguments in memory\u001b[0m\u001b[0;34m\u001b[0m\u001b[0;34m\u001b[0m\u001b[0;34m\u001b[0m\u001b[0m\n\u001b[0;32m--> 590\u001b[0;31m         \u001b[0mself\u001b[0m\u001b[0;34m.\u001b[0m\u001b[0mresults\u001b[0m \u001b[0;34m=\u001b[0m \u001b[0mbatch\u001b[0m\u001b[0;34m(\u001b[0m\u001b[0;34m)\u001b[0m\u001b[0;34m\u001b[0m\u001b[0;34m\u001b[0m\u001b[0m\n\u001b[0m\u001b[1;32m    591\u001b[0m \u001b[0;34m\u001b[0m\u001b[0m\n\u001b[1;32m    592\u001b[0m     \u001b[0;32mdef\u001b[0m \u001b[0mget\u001b[0m\u001b[0;34m(\u001b[0m\u001b[0mself\u001b[0m\u001b[0;34m)\u001b[0m\u001b[0;34m:\u001b[0m\u001b[0;34m\u001b[0m\u001b[0;34m\u001b[0m\u001b[0m\n",
      "\u001b[0;32m/opt/anaconda3/lib/python3.8/site-packages/joblib/parallel.py\u001b[0m in \u001b[0;36m__call__\u001b[0;34m(self)\u001b[0m\n\u001b[1;32m    253\u001b[0m         \u001b[0;31m# change the default number of processes to -1\u001b[0m\u001b[0;34m\u001b[0m\u001b[0;34m\u001b[0m\u001b[0;34m\u001b[0m\u001b[0m\n\u001b[1;32m    254\u001b[0m         \u001b[0;32mwith\u001b[0m \u001b[0mparallel_backend\u001b[0m\u001b[0;34m(\u001b[0m\u001b[0mself\u001b[0m\u001b[0;34m.\u001b[0m\u001b[0m_backend\u001b[0m\u001b[0;34m,\u001b[0m \u001b[0mn_jobs\u001b[0m\u001b[0;34m=\u001b[0m\u001b[0mself\u001b[0m\u001b[0;34m.\u001b[0m\u001b[0m_n_jobs\u001b[0m\u001b[0;34m)\u001b[0m\u001b[0;34m:\u001b[0m\u001b[0;34m\u001b[0m\u001b[0;34m\u001b[0m\u001b[0m\n\u001b[0;32m--> 255\u001b[0;31m             return [func(*args, **kwargs)\n\u001b[0m\u001b[1;32m    256\u001b[0m                     for func, args, kwargs in self.items]\n\u001b[1;32m    257\u001b[0m \u001b[0;34m\u001b[0m\u001b[0m\n",
      "\u001b[0;32m/opt/anaconda3/lib/python3.8/site-packages/joblib/parallel.py\u001b[0m in \u001b[0;36m<listcomp>\u001b[0;34m(.0)\u001b[0m\n\u001b[1;32m    253\u001b[0m         \u001b[0;31m# change the default number of processes to -1\u001b[0m\u001b[0;34m\u001b[0m\u001b[0;34m\u001b[0m\u001b[0;34m\u001b[0m\u001b[0m\n\u001b[1;32m    254\u001b[0m         \u001b[0;32mwith\u001b[0m \u001b[0mparallel_backend\u001b[0m\u001b[0;34m(\u001b[0m\u001b[0mself\u001b[0m\u001b[0;34m.\u001b[0m\u001b[0m_backend\u001b[0m\u001b[0;34m,\u001b[0m \u001b[0mn_jobs\u001b[0m\u001b[0;34m=\u001b[0m\u001b[0mself\u001b[0m\u001b[0;34m.\u001b[0m\u001b[0m_n_jobs\u001b[0m\u001b[0;34m)\u001b[0m\u001b[0;34m:\u001b[0m\u001b[0;34m\u001b[0m\u001b[0;34m\u001b[0m\u001b[0m\n\u001b[0;32m--> 255\u001b[0;31m             return [func(*args, **kwargs)\n\u001b[0m\u001b[1;32m    256\u001b[0m                     for func, args, kwargs in self.items]\n\u001b[1;32m    257\u001b[0m \u001b[0;34m\u001b[0m\u001b[0m\n",
      "\u001b[0;32m/opt/anaconda3/lib/python3.8/site-packages/sklearn/model_selection/_validation.py\u001b[0m in \u001b[0;36m_fit_and_predict\u001b[0;34m(estimator, X, y, train, test, verbose, fit_params, method)\u001b[0m\n\u001b[1;32m    839\u001b[0m         \u001b[0mestimator\u001b[0m\u001b[0;34m.\u001b[0m\u001b[0mfit\u001b[0m\u001b[0;34m(\u001b[0m\u001b[0mX_train\u001b[0m\u001b[0;34m,\u001b[0m \u001b[0;34m**\u001b[0m\u001b[0mfit_params\u001b[0m\u001b[0;34m)\u001b[0m\u001b[0;34m\u001b[0m\u001b[0;34m\u001b[0m\u001b[0m\n\u001b[1;32m    840\u001b[0m     \u001b[0;32melse\u001b[0m\u001b[0;34m:\u001b[0m\u001b[0;34m\u001b[0m\u001b[0;34m\u001b[0m\u001b[0m\n\u001b[0;32m--> 841\u001b[0;31m         \u001b[0mestimator\u001b[0m\u001b[0;34m.\u001b[0m\u001b[0mfit\u001b[0m\u001b[0;34m(\u001b[0m\u001b[0mX_train\u001b[0m\u001b[0;34m,\u001b[0m \u001b[0my_train\u001b[0m\u001b[0;34m,\u001b[0m \u001b[0;34m**\u001b[0m\u001b[0mfit_params\u001b[0m\u001b[0;34m)\u001b[0m\u001b[0;34m\u001b[0m\u001b[0;34m\u001b[0m\u001b[0m\n\u001b[0m\u001b[1;32m    842\u001b[0m     \u001b[0mfunc\u001b[0m \u001b[0;34m=\u001b[0m \u001b[0mgetattr\u001b[0m\u001b[0;34m(\u001b[0m\u001b[0mestimator\u001b[0m\u001b[0;34m,\u001b[0m \u001b[0mmethod\u001b[0m\u001b[0;34m)\u001b[0m\u001b[0;34m\u001b[0m\u001b[0;34m\u001b[0m\u001b[0m\n\u001b[1;32m    843\u001b[0m     \u001b[0mpredictions\u001b[0m \u001b[0;34m=\u001b[0m \u001b[0mfunc\u001b[0m\u001b[0;34m(\u001b[0m\u001b[0mX_test\u001b[0m\u001b[0;34m)\u001b[0m\u001b[0;34m\u001b[0m\u001b[0;34m\u001b[0m\u001b[0m\n",
      "\u001b[0;32m/opt/anaconda3/lib/python3.8/site-packages/sklearn/pipeline.py\u001b[0m in \u001b[0;36mfit\u001b[0;34m(self, X, y, **fit_params)\u001b[0m\n\u001b[1;32m    352\u001b[0m                                  self._log_message(len(self.steps) - 1)):\n\u001b[1;32m    353\u001b[0m             \u001b[0;32mif\u001b[0m \u001b[0mself\u001b[0m\u001b[0;34m.\u001b[0m\u001b[0m_final_estimator\u001b[0m \u001b[0;34m!=\u001b[0m \u001b[0;34m'passthrough'\u001b[0m\u001b[0;34m:\u001b[0m\u001b[0;34m\u001b[0m\u001b[0;34m\u001b[0m\u001b[0m\n\u001b[0;32m--> 354\u001b[0;31m                 \u001b[0mself\u001b[0m\u001b[0;34m.\u001b[0m\u001b[0m_final_estimator\u001b[0m\u001b[0;34m.\u001b[0m\u001b[0mfit\u001b[0m\u001b[0;34m(\u001b[0m\u001b[0mXt\u001b[0m\u001b[0;34m,\u001b[0m \u001b[0my\u001b[0m\u001b[0;34m,\u001b[0m \u001b[0;34m**\u001b[0m\u001b[0mfit_params\u001b[0m\u001b[0;34m)\u001b[0m\u001b[0;34m\u001b[0m\u001b[0;34m\u001b[0m\u001b[0m\n\u001b[0m\u001b[1;32m    355\u001b[0m         \u001b[0;32mreturn\u001b[0m \u001b[0mself\u001b[0m\u001b[0;34m\u001b[0m\u001b[0;34m\u001b[0m\u001b[0m\n\u001b[1;32m    356\u001b[0m \u001b[0;34m\u001b[0m\u001b[0m\n",
      "\u001b[0;32m/opt/anaconda3/lib/python3.8/site-packages/sklearn/linear_model/_base.py\u001b[0m in \u001b[0;36mfit\u001b[0;34m(self, X, y, sample_weight)\u001b[0m\n\u001b[1;32m    489\u001b[0m \u001b[0;34m\u001b[0m\u001b[0m\n\u001b[1;32m    490\u001b[0m         \u001b[0mn_jobs_\u001b[0m \u001b[0;34m=\u001b[0m \u001b[0mself\u001b[0m\u001b[0;34m.\u001b[0m\u001b[0mn_jobs\u001b[0m\u001b[0;34m\u001b[0m\u001b[0;34m\u001b[0m\u001b[0m\n\u001b[0;32m--> 491\u001b[0;31m         X, y = check_X_y(X, y, accept_sparse=['csr', 'csc', 'coo'],\n\u001b[0m\u001b[1;32m    492\u001b[0m                          y_numeric=True, multi_output=True)\n\u001b[1;32m    493\u001b[0m \u001b[0;34m\u001b[0m\u001b[0m\n",
      "\u001b[0;32m/opt/anaconda3/lib/python3.8/site-packages/sklearn/utils/validation.py\u001b[0m in \u001b[0;36mcheck_X_y\u001b[0;34m(X, y, accept_sparse, accept_large_sparse, dtype, order, copy, force_all_finite, ensure_2d, allow_nd, multi_output, ensure_min_samples, ensure_min_features, y_numeric, warn_on_dtype, estimator)\u001b[0m\n\u001b[1;32m    745\u001b[0m         \u001b[0;32mraise\u001b[0m \u001b[0mValueError\u001b[0m\u001b[0;34m(\u001b[0m\u001b[0;34m\"y cannot be None\"\u001b[0m\u001b[0;34m)\u001b[0m\u001b[0;34m\u001b[0m\u001b[0;34m\u001b[0m\u001b[0m\n\u001b[1;32m    746\u001b[0m \u001b[0;34m\u001b[0m\u001b[0m\n\u001b[0;32m--> 747\u001b[0;31m     X = check_array(X, accept_sparse=accept_sparse,\n\u001b[0m\u001b[1;32m    748\u001b[0m                     \u001b[0maccept_large_sparse\u001b[0m\u001b[0;34m=\u001b[0m\u001b[0maccept_large_sparse\u001b[0m\u001b[0;34m,\u001b[0m\u001b[0;34m\u001b[0m\u001b[0;34m\u001b[0m\u001b[0m\n\u001b[1;32m    749\u001b[0m                     \u001b[0mdtype\u001b[0m\u001b[0;34m=\u001b[0m\u001b[0mdtype\u001b[0m\u001b[0;34m,\u001b[0m \u001b[0morder\u001b[0m\u001b[0;34m=\u001b[0m\u001b[0morder\u001b[0m\u001b[0;34m,\u001b[0m \u001b[0mcopy\u001b[0m\u001b[0;34m=\u001b[0m\u001b[0mcopy\u001b[0m\u001b[0;34m,\u001b[0m\u001b[0;34m\u001b[0m\u001b[0;34m\u001b[0m\u001b[0m\n",
      "\u001b[0;32m/opt/anaconda3/lib/python3.8/site-packages/sklearn/utils/validation.py\u001b[0m in \u001b[0;36mcheck_array\u001b[0;34m(array, accept_sparse, accept_large_sparse, dtype, order, copy, force_all_finite, ensure_2d, allow_nd, ensure_min_samples, ensure_min_features, warn_on_dtype, estimator)\u001b[0m\n\u001b[1;32m    589\u001b[0m         \u001b[0mn_features\u001b[0m \u001b[0;34m=\u001b[0m \u001b[0marray\u001b[0m\u001b[0;34m.\u001b[0m\u001b[0mshape\u001b[0m\u001b[0;34m[\u001b[0m\u001b[0;36m1\u001b[0m\u001b[0;34m]\u001b[0m\u001b[0;34m\u001b[0m\u001b[0;34m\u001b[0m\u001b[0m\n\u001b[1;32m    590\u001b[0m         \u001b[0;32mif\u001b[0m \u001b[0mn_features\u001b[0m \u001b[0;34m<\u001b[0m \u001b[0mensure_min_features\u001b[0m\u001b[0;34m:\u001b[0m\u001b[0;34m\u001b[0m\u001b[0;34m\u001b[0m\u001b[0m\n\u001b[0;32m--> 591\u001b[0;31m             raise ValueError(\"Found array with %d feature(s) (shape=%s) while\"\n\u001b[0m\u001b[1;32m    592\u001b[0m                              \u001b[0;34m\" a minimum of %d is required%s.\"\u001b[0m\u001b[0;34m\u001b[0m\u001b[0;34m\u001b[0m\u001b[0m\n\u001b[1;32m    593\u001b[0m                              % (n_features, array.shape, ensure_min_features,\n",
      "\u001b[0;31mValueError\u001b[0m: Found array with 0 feature(s) (shape=(225668, 0)) while a minimum of 1 is required."
     ]
    }
   ],
   "source": [
    "con_transformer = Pipeline(steps=[('scaler', StandardScaler())])\n",
    "cat_transformer = Pipeline(steps =[('onehotencoding',OneHotEncoder(handle_unknown='ignore'))])\n",
    "\n",
    "\n",
    "preprocessor = ColumnTransformer(\n",
    "    transformers=[\n",
    "    #('num', con_transformer , con_col),\n",
    "    ('cat',cat_transformer,cat_col)\n",
    "])\n",
    "\n",
    "\n",
    "\n",
    "lr = Pipeline(\n",
    "    steps=[('prep', preprocessor),\n",
    "           ('regression',LinearRegression())    \n",
    "])\n",
    "\n",
    "\n",
    "regressors = [LinearRegression(),\n",
    "             #Lasso(),\n",
    "             #ElasticNet(),\n",
    "             DecisionTreeRegressor()\n",
    "             #KNeighborsRegressor(),\n",
    "             #GradientBoostingRegressor()\n",
    "]\n",
    "\n",
    "cv = KFold(n_splits=10, random_state=42, shuffle=False)\n",
    "\n",
    "for reg in regressors:\n",
    "    lr = Pipeline(\n",
    "        steps=[('prep', preprocessor),\n",
    "               ('regression',    reg)\n",
    "              ])\n",
    "    y_pred = cross_val_predict(lr, df_feature, df_label, cv=5)\n",
    "    \n",
    "    #print(scores)\n",
    "    print(reg,np.sqrt(metrics.mean_squared_error(df_label,y_pred)))\n",
    "    #print(scores.mean())\n",
    "    \n",
    "\n",
    "lr.fit(df_feature, df_label)\n",
    "\n",
    "\n"
   ]
  },
  {
   "cell_type": "code",
   "execution_count": 132,
   "metadata": {},
   "outputs": [
    {
     "name": "stdout",
     "output_type": "stream",
     "text": [
      "        Quantity  stockcodeencoded  countryencoded\n",
      "0            3.0          3.745719        2.914963\n",
      "1            1.0          1.973005        2.914963\n",
      "2           36.0          5.895338        2.914963\n",
      "3            2.0          0.824939        2.914963\n",
      "4            1.0          1.635841        2.914963\n",
      "...          ...               ...             ...\n",
      "122044      12.0          0.431496        2.914963\n",
      "122045      16.0          1.258647        4.074869\n",
      "122046       6.0          1.261797        2.914963\n",
      "122047       1.0          0.640821        2.914963\n",
      "122048       3.0          9.862500        2.914963\n",
      "\n",
      "[122049 rows x 3 columns]\n"
     ]
    }
   ],
   "source": [
    "# Handling missing values in test dataset\n",
    "\n",
    "from sklearn.impute import SimpleImputer\n",
    "\n",
    "imputer = SimpleImputer()\n",
    "imputer.fit(df_feature)\n",
    "\n",
    "df_impute_test = pd.DataFrame(imputer.transform(df_test_feature), columns = features)\n",
    "\n",
    "print(df_impute_test)"
   ]
  },
  {
   "cell_type": "code",
   "execution_count": 136,
   "metadata": {},
   "outputs": [
    {
     "name": "stdout",
     "output_type": "stream",
     "text": [
      "[3.75       2.07111111 5.95       ... 1.3105     0.65       9.95000562]\n"
     ]
    }
   ],
   "source": [
    "#print(len(df_test_feature))\n",
    "#print(df_test_feature[df_test_feature.isna().any(axis=1)])\n",
    "#print(lr)\n",
    "print(lr.predict(df_impute_test))"
   ]
  },
  {
   "cell_type": "code",
   "execution_count": 137,
   "metadata": {},
   "outputs": [
    {
     "name": "stdout",
     "output_type": "stream",
     "text": [
      "        UnitPrice\n",
      "0        3.750000\n",
      "1        2.071111\n",
      "2        5.950000\n",
      "3        0.830000\n",
      "4        1.650000\n",
      "...           ...\n",
      "122044   0.420000\n",
      "122045   1.250000\n",
      "122046   1.310500\n",
      "122047   0.650000\n",
      "122048   9.950006\n",
      "\n",
      "[122049 rows x 1 columns]\n",
      "122049\n"
     ]
    }
   ],
   "source": [
    "#print(y_pred)\n",
    "final_pred = pd.DataFrame(lr.predict(df_impute_test), columns=['UnitPrice'])\n",
    "\n",
    "print(final_pred)\n",
    "\n",
    "print(len(final_pred))\n",
    "\n",
    "final_pred.to_csv(r\"/Users/viveksavita/predictions_4.csv\", index=False, header=True)"
   ]
  },
  {
   "cell_type": "code",
   "execution_count": 117,
   "metadata": {},
   "outputs": [
    {
     "name": "stdout",
     "output_type": "stream",
     "text": [
      "17.710038152558038\n"
     ]
    }
   ],
   "source": [
    "from sklearn import metrics\n",
    "\n",
    "print(np.sqrt(metrics.mean_squared_error(y_test,y_pred)))"
   ]
  },
  {
   "cell_type": "code",
   "execution_count": null,
   "metadata": {},
   "outputs": [],
   "source": []
  },
  {
   "cell_type": "code",
   "execution_count": 139,
   "metadata": {},
   "outputs": [],
   "source": [
    "from sklearn.model_selection import KFold\n",
    "from sklearn.model_selection import cross_val_score\n",
    "from sklearn.preprocessing import KBinsDiscretizer\n",
    "\n"
   ]
  },
  {
   "cell_type": "code",
   "execution_count": null,
   "metadata": {},
   "outputs": [],
   "source": []
  },
  {
   "cell_type": "code",
   "execution_count": 166,
   "metadata": {},
   "outputs": [
    {
     "name": "stdout",
     "output_type": "stream",
     "text": [
      "[[7.]\n",
      " [5.]\n",
      " [8.]\n",
      " ...\n",
      " [9.]\n",
      " [7.]\n",
      " [1.]]\n",
      "         index  label\n",
      "0            0    7.0\n",
      "1            1    5.0\n",
      "2            2    8.0\n",
      "3            3    1.0\n",
      "4            4    4.0\n",
      "...        ...    ...\n",
      "282154  282154    4.0\n",
      "282155  282155    1.0\n",
      "282156  282156    9.0\n",
      "282157  282157    7.0\n",
      "282158  282158    1.0\n",
      "\n",
      "[282159 rows x 2 columns]\n",
      "        StockCode  Description  Quantity         InvoiceDate  UnitPrice  \\\n",
      "0            1583          144         3 2011-05-06 16:54:00       3.75   \n",
      "1            1300         3682         6 2011-05-11 07:35:00       1.95   \n",
      "2            2178         1939         4 2011-11-20 13:20:00       5.95   \n",
      "3            2115         2983         1 2011-11-22 12:07:00       0.83   \n",
      "4            1210         2886        12 2011-05-06 09:00:00       1.65   \n",
      "...           ...          ...       ...                 ...        ...   \n",
      "282154       1706         1081         6 2011-03-01 12:07:00       1.65   \n",
      "282155       2184         2947        16 2011-10-13 15:08:00       0.65   \n",
      "282156        667         3632         4 2011-05-16 12:59:00       8.50   \n",
      "282157       1576         3089        48 2011-10-11 14:18:00       3.45   \n",
      "282158       2603         1156         2 2011-08-22 13:30:00       0.75   \n",
      "\n",
      "        CustomerID  Country  \n",
      "0          14056.0       35  \n",
      "1          13098.0       35  \n",
      "2          15044.0       35  \n",
      "3          15525.0       35  \n",
      "4          13952.0       35  \n",
      "...            ...      ...  \n",
      "282154     17965.0       35  \n",
      "282155     16793.0       35  \n",
      "282156     14755.0       35  \n",
      "282157     14866.0       35  \n",
      "282158     17585.0       35  \n",
      "\n",
      "[282159 rows x 7 columns]\n"
     ]
    }
   ],
   "source": [
    "kbins = KBinsDiscretizer(n_bins=10, encode='ordinal', strategy='quantile')\n",
    "data_trans = kbins.fit_transform(df_label)\n",
    "print(data_trans)\n",
    "bins = pd.DataFrame(data_trans, columns=['label'])\n",
    "bins.reset_index(inplace=True)\n",
    "print(bins)\n",
    "print(df_1)\n",
    "\n",
    "\n",
    "#plt.hist(data_trans, bins=10)\n",
    "#plt.show()"
   ]
  },
  {
   "cell_type": "code",
   "execution_count": 172,
   "metadata": {},
   "outputs": [
    {
     "name": "stdout",
     "output_type": "stream",
     "text": [
      "        StockCode  Description  Quantity         InvoiceDate  UnitPrice  \\\n",
      "0            1583          144         3 2011-05-06 16:54:00       3.75   \n",
      "1            1300         3682         6 2011-05-11 07:35:00       1.95   \n",
      "2            2178         1939         4 2011-11-20 13:20:00       5.95   \n",
      "3            2115         2983         1 2011-11-22 12:07:00       0.83   \n",
      "4            1210         2886        12 2011-05-06 09:00:00       1.65   \n",
      "...           ...          ...       ...                 ...        ...   \n",
      "282154       1706         1081         6 2011-03-01 12:07:00       1.65   \n",
      "282155       2184         2947        16 2011-10-13 15:08:00       0.65   \n",
      "282156        667         3632         4 2011-05-16 12:59:00       8.50   \n",
      "282157       1576         3089        48 2011-10-11 14:18:00       3.45   \n",
      "282158       2603         1156         2 2011-08-22 13:30:00       0.75   \n",
      "\n",
      "        CustomerID  Country   index  label  \n",
      "0          14056.0       35       0    7.0  \n",
      "1          13098.0       35       1    5.0  \n",
      "2          15044.0       35       2    8.0  \n",
      "3          15525.0       35       3    1.0  \n",
      "4          13952.0       35       4    4.0  \n",
      "...            ...      ...     ...    ...  \n",
      "282154     17965.0       35  282154    4.0  \n",
      "282155     16793.0       35  282155    1.0  \n",
      "282156     14755.0       35  282156    9.0  \n",
      "282157     14866.0       35  282157    7.0  \n",
      "282158     17585.0       35  282158    1.0  \n",
      "\n",
      "[282159 rows x 9 columns]\n",
      "StockCode\n",
      "0         0.850000\n",
      "1         0.422857\n",
      "2         0.210000\n",
      "3         0.650000\n",
      "4         0.420000\n",
      "           ...    \n",
      "3679     87.606735\n",
      "3680    781.587857\n",
      "3681    338.893892\n",
      "3682      0.000750\n",
      "3683     33.216726\n",
      "Name: UnitPrice, Length: 3619, dtype: float64\n",
      "        StockCode  Description  Quantity         InvoiceDate  UnitPrice  \\\n",
      "0            1583          144         3 2011-05-06 16:54:00       3.75   \n",
      "1            1300         3682         6 2011-05-11 07:35:00       1.95   \n",
      "2            2178         1939         4 2011-11-20 13:20:00       5.95   \n",
      "3            2115         2983         1 2011-11-22 12:07:00       0.83   \n",
      "4            1210         2886        12 2011-05-06 09:00:00       1.65   \n",
      "...           ...          ...       ...                 ...        ...   \n",
      "282154       1706         1081         6 2011-03-01 12:07:00       1.65   \n",
      "282155       2184         2947        16 2011-10-13 15:08:00       0.65   \n",
      "282156        667         3632         4 2011-05-16 12:59:00       8.50   \n",
      "282157       1576         3089        48 2011-10-11 14:18:00       3.45   \n",
      "282158       2603         1156         2 2011-08-22 13:30:00       0.75   \n",
      "\n",
      "        CustomerID  Country   index  label  stockcodeencoded  \n",
      "0          14056.0       35       0    7.0          3.745719  \n",
      "1          13098.0       35       1    5.0          1.973005  \n",
      "2          15044.0       35       2    8.0          5.895338  \n",
      "3          15525.0       35       3    1.0          0.824939  \n",
      "4          13952.0       35       4    4.0          1.635841  \n",
      "...            ...      ...     ...    ...               ...  \n",
      "282154     17965.0       35  282154    4.0          1.647468  \n",
      "282155     16793.0       35  282155    1.0          0.650000  \n",
      "282156     14755.0       35  282156    9.0          8.483321  \n",
      "282157     14866.0       35  282157    7.0          3.918043  \n",
      "282158     17585.0       35  282158    1.0          1.317568  \n",
      "\n",
      "[282159 rows x 10 columns]\n"
     ]
    }
   ],
   "source": [
    "df_2 = pd.concat([df_1 , bins], axis=1 , join = 'inner' )\n",
    "print(df_2)\n",
    "\n",
    "stockcodemean = df_2.groupby(['StockCode'])['UnitPrice'].mean()\n",
    "print(stockcodemean)\n",
    "\n",
    "df_2.loc[:, \"stockcodeencoded\"] = df_2['StockCode'].map(stockcodemean)\n",
    "\n",
    "print(df_2)\n",
    "\n",
    "\n",
    "\n",
    "\n"
   ]
  },
  {
   "cell_type": "code",
   "execution_count": null,
   "metadata": {},
   "outputs": [],
   "source": []
  }
 ],
 "metadata": {
  "kernelspec": {
   "display_name": "Python 3",
   "language": "python",
   "name": "python3"
  },
  "language_info": {
   "codemirror_mode": {
    "name": "ipython",
    "version": 3
   },
   "file_extension": ".py",
   "mimetype": "text/x-python",
   "name": "python",
   "nbconvert_exporter": "python",
   "pygments_lexer": "ipython3",
   "version": "3.8.3"
  }
 },
 "nbformat": 4,
 "nbformat_minor": 4
}
