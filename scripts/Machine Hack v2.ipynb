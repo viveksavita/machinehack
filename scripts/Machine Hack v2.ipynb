{
 "cells": [
  {
   "cell_type": "code",
   "execution_count": 6,
   "metadata": {},
   "outputs": [],
   "source": [
    "import pandas as pd\n",
    "import numpy as np\n",
    "import pandas_profiling \n",
    "from matplotlib import pyplot as plt\n",
    "from datetime import datetime\n",
    "\n",
    "from sklearn.model_selection import cross_val_score\n",
    "\n",
    "from sklearn.pipeline import Pipeline\n",
    "from sklearn.model_selection import train_test_split\n",
    "\n"
   ]
  },
  {
   "cell_type": "code",
   "execution_count": 215,
   "metadata": {},
   "outputs": [
    {
     "name": "stdout",
     "output_type": "stream",
     "text": [
      "122049\n",
      "   InvoiceNo  StockCode  Description  Quantity          InvoiceDate  \\\n",
      "0       6141       1583          144         3  2011-05-06 16:54:00   \n",
      "1       6349       1300         3682         6  2011-05-11 07:35:00   \n",
      "2      16783       2178         1939         4  2011-11-20 13:20:00   \n",
      "3      16971       2115         2983         1  2011-11-22 12:07:00   \n",
      "4       6080       1210         2886        12  2011-05-06 09:00:00   \n",
      "\n",
      "   UnitPrice  CustomerID  Country  \n",
      "0       3.75     14056.0       35  \n",
      "1       1.95     13098.0       35  \n",
      "2       5.95     15044.0       35  \n",
      "3       0.83     15525.0       35  \n",
      "4       1.65     13952.0       35  \n",
      "   InvoiceNo  StockCode  Description  Quantity          InvoiceDate  \\\n",
      "0       3139       1709         1079         3  2011-02-22 15:22:00   \n",
      "1        617        510         3457         1  2010-12-08 12:46:00   \n",
      "2      14653        604          694        36  2011-10-25 13:53:00   \n",
      "3       8634       1478         3473         2  2011-06-27 12:38:00   \n",
      "4      15546       3216          871         1  2011-11-06 16:14:00   \n",
      "\n",
      "   CustomerID  Country  \n",
      "0     16161.0       35  \n",
      "1     17341.0       35  \n",
      "2     15158.0       35  \n",
      "3     16033.0       35  \n",
      "4     15351.0       35  \n"
     ]
    }
   ],
   "source": [
    "df = pd.read_csv(r\"/Users/viveksavita/Downloads/Participants_Data_TGIH/train.csv\")\n",
    "df_test = pd.read_csv(r\"/Users/viveksavita/Downloads/Participants_Data_TGIH/test.csv\")\n",
    "\n",
    "print(len(df_test))\n",
    "\n",
    "print(df.head())\n",
    "print(df_test.head())"
   ]
  },
  {
   "cell_type": "code",
   "execution_count": 216,
   "metadata": {},
   "outputs": [],
   "source": [
    "def convert_date(df):\n",
    "    df[\"InvoiceDate\"] = df[\"InvoiceDate\"].apply(lambda x : datetime.strptime(x,\"%Y-%m-%d %H:%M:%S\"))\n",
    "    return df\n",
    "\n",
    "\n",
    "df = convert_date(df)\n",
    "df_test =     convert_date(df_test)      \n",
    "\n"
   ]
  },
  {
   "cell_type": "code",
   "execution_count": 217,
   "metadata": {},
   "outputs": [
    {
     "name": "stdout",
     "output_type": "stream",
     "text": [
      "282159\n",
      "        StockCode  Description  Quantity         InvoiceDate  UnitPrice  \\\n",
      "0            1583          144         3 2011-05-06 16:54:00       3.75   \n",
      "1            1300         3682         6 2011-05-11 07:35:00       1.95   \n",
      "2            2178         1939         4 2011-11-20 13:20:00       5.95   \n",
      "3            2115         2983         1 2011-11-22 12:07:00       0.83   \n",
      "4            1210         2886        12 2011-05-06 09:00:00       1.65   \n",
      "...           ...          ...       ...                 ...        ...   \n",
      "282154       1706         1081         6 2011-03-01 12:07:00       1.65   \n",
      "282155       2184         2947        16 2011-10-13 15:08:00       0.65   \n",
      "282156        667         3632         4 2011-05-16 12:59:00       8.50   \n",
      "282157       1576         3089        48 2011-10-11 14:18:00       3.45   \n",
      "282158       2603         1156         2 2011-08-22 13:30:00       0.75   \n",
      "\n",
      "        CustomerID  Country  \n",
      "0          14056.0       35  \n",
      "1          13098.0       35  \n",
      "2          15044.0       35  \n",
      "3          15525.0       35  \n",
      "4          13952.0       35  \n",
      "...            ...      ...  \n",
      "282154     17965.0       35  \n",
      "282155     16793.0       35  \n",
      "282156     14755.0       35  \n",
      "282157     14866.0       35  \n",
      "282158     17585.0       35  \n",
      "\n",
      "[282159 rows x 7 columns]\n",
      "Index(['StockCode', 'Description', 'Quantity', 'InvoiceDate', 'UnitPrice',\n",
      "       'CustomerID', 'Country'],\n",
      "      dtype='object')\n"
     ]
    }
   ],
   "source": [
    "df.drop_duplicates(inplace=True)\n",
    "print(len(df))\n",
    "df_1 = df.copy()\n",
    "df_1.reset_index( inplace=True , drop=True)\n",
    "\n",
    "df_1.drop(columns=['InvoiceNo'], axis=1, inplace=True)\n",
    "df_1.describe()\n",
    "print(df_1)\n",
    "\n",
    "df_1_col = df_1.columns\n",
    "print(df_1_col)"
   ]
  },
  {
   "cell_type": "code",
   "execution_count": 218,
   "metadata": {},
   "outputs": [
    {
     "name": "stdout",
     "output_type": "stream",
     "text": [
      "        StockCode  Description  Quantity         InvoiceDate  UnitPrice  \\\n",
      "0            1583          144         3 2011-05-06 16:54:00       3.75   \n",
      "1            1300         3682         6 2011-05-11 07:35:00       1.95   \n",
      "2            2178         1939         4 2011-11-20 13:20:00       5.95   \n",
      "3            2115         2983         1 2011-11-22 12:07:00       0.83   \n",
      "4            1210         2886        12 2011-05-06 09:00:00       1.65   \n",
      "...           ...          ...       ...                 ...        ...   \n",
      "282154       1706         1081         6 2011-03-01 12:07:00       1.65   \n",
      "282155       2184         2947        16 2011-10-13 15:08:00       0.65   \n",
      "282156        667         3632         4 2011-05-16 12:59:00       8.50   \n",
      "282157       1576         3089        48 2011-10-11 14:18:00       3.45   \n",
      "282158       2603         1156         2 2011-08-22 13:30:00       0.75   \n",
      "\n",
      "        CustomerID  Country  invoice_month  invoice_year  \n",
      "0          14056.0       35              5          2011  \n",
      "1          13098.0       35              5          2011  \n",
      "2          15044.0       35             11          2011  \n",
      "3          15525.0       35             11          2011  \n",
      "4          13952.0       35              5          2011  \n",
      "...            ...      ...            ...           ...  \n",
      "282154     17965.0       35              3          2011  \n",
      "282155     16793.0       35             10          2011  \n",
      "282156     14755.0       35              5          2011  \n",
      "282157     14866.0       35             10          2011  \n",
      "282158     17585.0       35              8          2011  \n",
      "\n",
      "[282159 rows x 9 columns]\n"
     ]
    }
   ],
   "source": [
    "df_1[\"invoice_month\"] = df_1[\"InvoiceDate\"].dt.month\n",
    "df_1[\"invoice_year\"] = df_1[\"InvoiceDate\"].dt.year\n",
    "\n",
    "print(df_1)"
   ]
  },
  {
   "cell_type": "code",
   "execution_count": 219,
   "metadata": {},
   "outputs": [
    {
     "name": "stdout",
     "output_type": "stream",
     "text": [
      "[[7.]\n",
      " [5.]\n",
      " [8.]\n",
      " ...\n",
      " [9.]\n",
      " [7.]\n",
      " [1.]]\n",
      "        StockCode  Description  Quantity         InvoiceDate  UnitPrice  \\\n",
      "0            1583          144         3 2011-05-06 16:54:00       3.75   \n",
      "1            1300         3682         6 2011-05-11 07:35:00       1.95   \n",
      "2            2178         1939         4 2011-11-20 13:20:00       5.95   \n",
      "3            2115         2983         1 2011-11-22 12:07:00       0.83   \n",
      "4            1210         2886        12 2011-05-06 09:00:00       1.65   \n",
      "...           ...          ...       ...                 ...        ...   \n",
      "282154       1706         1081         6 2011-03-01 12:07:00       1.65   \n",
      "282155       2184         2947        16 2011-10-13 15:08:00       0.65   \n",
      "282156        667         3632         4 2011-05-16 12:59:00       8.50   \n",
      "282157       1576         3089        48 2011-10-11 14:18:00       3.45   \n",
      "282158       2603         1156         2 2011-08-22 13:30:00       0.75   \n",
      "\n",
      "        CustomerID  Country  invoice_month  invoice_year   index  label  \n",
      "0          14056.0       35              5          2011       0    7.0  \n",
      "1          13098.0       35              5          2011       1    5.0  \n",
      "2          15044.0       35             11          2011       2    8.0  \n",
      "3          15525.0       35             11          2011       3    1.0  \n",
      "4          13952.0       35              5          2011       4    4.0  \n",
      "...            ...      ...            ...           ...     ...    ...  \n",
      "282154     17965.0       35              3          2011  282154    4.0  \n",
      "282155     16793.0       35             10          2011  282155    1.0  \n",
      "282156     14755.0       35              5          2011  282156    9.0  \n",
      "282157     14866.0       35             10          2011  282157    7.0  \n",
      "282158     17585.0       35              8          2011  282158    1.0  \n",
      "\n",
      "[282159 rows x 11 columns]\n"
     ]
    }
   ],
   "source": [
    "from sklearn.model_selection import KFold\n",
    "from sklearn.model_selection import cross_val_score\n",
    "from sklearn.preprocessing import KBinsDiscretizer\n",
    "\n",
    "kbins = KBinsDiscretizer(n_bins=10, encode='ordinal', strategy='quantile')\n",
    "data_trans = kbins.fit_transform(df_label)\n",
    "print(data_trans)\n",
    "bins = pd.DataFrame(data_trans, columns=['label'])\n",
    "bins.reset_index(inplace=True)\n",
    "\n",
    "df_1 = pd.concat([df_1 , bins], axis=1 , join = 'inner' )\n",
    "print(df_1)"
   ]
  },
  {
   "cell_type": "code",
   "execution_count": 224,
   "metadata": {},
   "outputs": [
    {
     "name": "stdout",
     "output_type": "stream",
     "text": [
      "       StockCode  label  invoice_month  index\n",
      "0              0    2.0              1     13\n",
      "1              0    2.0              2      1\n",
      "2              0    2.0              3      4\n",
      "3              0    2.0              4      4\n",
      "4              0    2.0             12     10\n",
      "...          ...    ...            ...    ...\n",
      "33988       3683    9.0              8     67\n",
      "33989       3683    9.0              9     78\n",
      "33990       3683    9.0             10     84\n",
      "33991       3683    9.0             11    129\n",
      "33992       3683    9.0             12     80\n",
      "\n",
      "[33993 rows x 4 columns]\n",
      "StockCode  label\n",
      "0          2.0       32\n",
      "1          0.0       13\n",
      "           2.0        1\n",
      "2          0.0       22\n",
      "3          1.0        3\n",
      "                   ... \n",
      "3683       5.0        1\n",
      "           6.0        4\n",
      "           7.0        9\n",
      "           8.0       20\n",
      "           9.0      801\n",
      "Name: index, Length: 6523, dtype: int64\n",
      "                         label\n",
      "StockCode invoice_month       \n",
      "0         1                2.0\n",
      "          2                2.0\n",
      "          3                2.0\n",
      "          4                2.0\n",
      "          12               2.0\n",
      "...                        ...\n",
      "3683      8                9.0\n",
      "          9                9.0\n",
      "          10               9.0\n",
      "          11               9.0\n",
      "          12               9.0\n",
      "\n",
      "[27310 rows x 1 columns]\n"
     ]
    }
   ],
   "source": [
    "#print(df_1.groupby(['StockCode','label'])['label'].count())\n",
    "\n",
    "df1 = pd.DataFrame(df_1.groupby(['StockCode','label','invoice_month'])['index'].count())\n",
    "df1.reset_index(inplace=True)\n",
    "print(df1)\n",
    "\n",
    "print(df1.groupby(['StockCode','label'])['index'].sum())\n",
    "df7 = pd.DataFrame(df_1.groupby(['StockCode','invoice_month'])['label'].max())\n",
    "print(df7)\n"
   ]
  },
  {
   "cell_type": "code",
   "execution_count": 235,
   "metadata": {},
   "outputs": [
    {
     "name": "stdout",
     "output_type": "stream",
     "text": [
      "      StockCode  label  index\n",
      "0             0    2.0     32\n",
      "1             1    0.0     13\n",
      "2             1    2.0      1\n",
      "3             2    0.0     22\n",
      "4             3    1.0      3\n",
      "...         ...    ...    ...\n",
      "6518       3683    5.0      1\n",
      "6519       3683    6.0      4\n",
      "6520       3683    7.0      9\n",
      "6521       3683    8.0     20\n",
      "6522       3683    9.0    801\n",
      "\n",
      "[6523 rows x 3 columns]\n",
      "      StockCode  index\n",
      "0             0     32\n",
      "1             1     13\n",
      "2             2     22\n",
      "3             3      3\n",
      "4             4      4\n",
      "...         ...    ...\n",
      "3614       3679     44\n",
      "3615       3680     14\n",
      "3616       3681    132\n",
      "3617       3682      4\n",
      "3618       3683    801\n",
      "\n",
      "[3619 rows x 2 columns]\n",
      "3659\n",
      "3659\n"
     ]
    }
   ],
   "source": [
    "# Finding the label for maximum count of the rows in stockcode\n",
    "#print(type(df1.groupby(['StockCode','label'])['index'].sum()))\n",
    "\n",
    "df2 = pd.DataFrame(df1.groupby(['StockCode','label'])['index'].sum())\n",
    "df3 = pd.DataFrame(df2.groupby(['StockCode'])['index'].max())\n",
    "df2.reset_index(inplace=True)\n",
    "df3.reset_index(inplace=True)\n",
    "\n",
    "df4 = (pd.merge(df3,df2,how='left' ,on=['StockCode','index']))\n",
    "df4.drop(columns=['index'] , inplace=True,axis=1)\n",
    "print(df2)\n",
    "print(df3)\n",
    "print(len(df4))\n",
    "\n",
    "df4.drop_duplicates(inplace=True)\n",
    "print(len(df4))\n",
    "\n",
    "#df_cust_grp = df_1.groupby(['CustomerID'])['index'].sum()\n",
    "#df4.to_csv(r\"/Users/viveksavita/df4.csv\")"
   ]
  },
  {
   "cell_type": "code",
   "execution_count": 236,
   "metadata": {
    "scrolled": true
   },
   "outputs": [
    {
     "name": "stdout",
     "output_type": "stream",
     "text": [
      "122049\n",
      "122049\n",
      "122049\n",
      "         index  StockCode  invoice_month  label  InvoiceNo  Description  \\\n",
      "0            0          0              1    2.0       2320         1698   \n",
      "1            1          0              1    2.0       1852         1698   \n",
      "2            2          0              1    2.0       1841         1698   \n",
      "3            3          0              1    2.0       2336         1698   \n",
      "4            4          0              1    2.0       1975         1698   \n",
      "...        ...        ...            ...    ...        ...          ...   \n",
      "122044  122044        480              7    NaN       9279         2080   \n",
      "122045  122045       2747              1    NaN       1806         2809   \n",
      "122046  122046       2858              9    NaN      12280         2565   \n",
      "122047  122047       1865              9    NaN      12032         3252   \n",
      "122048  122048       3377              8    NaN      10401         3222   \n",
      "\n",
      "        Quantity         InvoiceDate  CustomerID  Country  invoice_year  \n",
      "0             14 2011-01-30 14:05:00     13148.0       35          2011  \n",
      "1              6 2011-01-16 15:50:00     18069.0       35          2011  \n",
      "2              1 2011-01-16 13:04:00     12748.0       35          2011  \n",
      "3            120 2011-01-31 09:57:00     12731.0       13          2011  \n",
      "4             12 2011-01-20 10:48:00     12637.0       13          2011  \n",
      "...          ...                 ...         ...      ...           ...  \n",
      "122044         6 2011-07-13 10:09:00     13911.0       35          2011  \n",
      "122045        15 2011-01-14 10:42:00     12553.0       13          2011  \n",
      "122046        17 2011-09-16 13:13:00     15099.0       35          2011  \n",
      "122047        48 2011-09-12 14:54:00     16839.0       35          2011  \n",
      "122048         1 2011-08-05 16:19:00     17231.0       35          2011  \n",
      "\n",
      "[122049 rows x 11 columns]\n"
     ]
    }
   ],
   "source": [
    "df_test1 = df_test.copy()\n",
    "\n",
    "print(len(df_test1))\n",
    "\n",
    "\n",
    "df_test1[\"invoice_month\"] = df_test1[\"InvoiceDate\"].dt.month\n",
    "df_test1[\"invoice_year\"] = df_test1[\"InvoiceDate\"].dt.year\n",
    "\n",
    "print(len(df_test1))\n",
    "df_test1 = pd.merge(df7 ,df_test1, how ='right' , on =['StockCode','invoice_month'])\n",
    "##df_test1.drop(columns=['index'], axis=1 , inplace=True)\n",
    "df_test1.reset_index(inplace=True)\n",
    "print(len(df_test1))\n",
    "print(df_test1)\n",
    "df_test1_col = df_test1.columns"
   ]
  },
  {
   "cell_type": "code",
   "execution_count": 237,
   "metadata": {},
   "outputs": [
    {
     "name": "stdout",
     "output_type": "stream",
     "text": [
      "StockCode\n",
      "0       2.0\n",
      "1       0.0\n",
      "2       0.0\n",
      "3       1.0\n",
      "4       0.0\n",
      "       ... \n",
      "3679    9.0\n",
      "3680    9.0\n",
      "3681    9.0\n",
      "3682    0.0\n",
      "3683    9.0\n",
      "Name: label, Length: 3619, dtype: float64\n"
     ]
    }
   ],
   "source": [
    " df6 = df4.drop_duplicates('StockCode').set_index('StockCode')['label']\n",
    "print(df6)"
   ]
  },
  {
   "cell_type": "code",
   "execution_count": 238,
   "metadata": {},
   "outputs": [
    {
     "name": "stdout",
     "output_type": "stream",
     "text": [
      "         index  StockCode  invoice_month  label  InvoiceNo  Description  \\\n",
      "0            0          0              1    2.0       2320         1698   \n",
      "1            1          0              1    2.0       1852         1698   \n",
      "2            2          0              1    2.0       1841         1698   \n",
      "3            3          0              1    2.0       2336         1698   \n",
      "4            4          0              1    2.0       1975         1698   \n",
      "...        ...        ...            ...    ...        ...          ...   \n",
      "122044  122044        480              7    6.0       9279         2080   \n",
      "122045  122045       2747              1    0.0       1806         2809   \n",
      "122046  122046       2858              9    0.0      12280         2565   \n",
      "122047  122047       1865              9    5.0      12032         3252   \n",
      "122048  122048       3377              8    8.0      10401         3222   \n",
      "\n",
      "        Quantity         InvoiceDate  CustomerID  Country  invoice_year  \n",
      "0             14 2011-01-30 14:05:00     13148.0       35          2011  \n",
      "1              6 2011-01-16 15:50:00     18069.0       35          2011  \n",
      "2              1 2011-01-16 13:04:00     12748.0       35          2011  \n",
      "3            120 2011-01-31 09:57:00     12731.0       13          2011  \n",
      "4             12 2011-01-20 10:48:00     12637.0       13          2011  \n",
      "...          ...                 ...         ...      ...           ...  \n",
      "122044         6 2011-07-13 10:09:00     13911.0       35          2011  \n",
      "122045        15 2011-01-14 10:42:00     12553.0       13          2011  \n",
      "122046        17 2011-09-16 13:13:00     15099.0       35          2011  \n",
      "122047        48 2011-09-12 14:54:00     16839.0       35          2011  \n",
      "122048         1 2011-08-05 16:19:00     17231.0       35          2011  \n",
      "\n",
      "[122049 rows x 11 columns]\n"
     ]
    }
   ],
   "source": [
    "\n",
    "df_test1['label']= df_test1.label.fillna(df_test1['StockCode'].map(df6))\n",
    "\n",
    "df_test1['label']= df_test1.label.fillna(0)\n",
    "print(df_test1)\n"
   ]
  },
  {
   "cell_type": "code",
   "execution_count": 239,
   "metadata": {},
   "outputs": [
    {
     "name": "stdout",
     "output_type": "stream",
     "text": [
      "Empty DataFrame\n",
      "Columns: [index, StockCode, invoice_month, label, InvoiceNo, Description, Quantity, InvoiceDate, CustomerID, Country, invoice_year]\n",
      "Index: []\n"
     ]
    }
   ],
   "source": [
    "df_test_temp = df_test1[df_test1.isna().any(axis=1)]\n"
   ]
  },
  {
   "cell_type": "code",
   "execution_count": 242,
   "metadata": {},
   "outputs": [
    {
     "name": "stdout",
     "output_type": "stream",
     "text": [
      "StockCode                 int64\n",
      "Description               int64\n",
      "Quantity                  int64\n",
      "InvoiceDate      datetime64[ns]\n",
      "UnitPrice               float64\n",
      "CustomerID              float64\n",
      "Country                   int64\n",
      "invoice_month             int64\n",
      "invoice_year              int64\n",
      "index                     int64\n",
      "label                   float64\n",
      "dtype: object\n"
     ]
    }
   ],
   "source": [
    "print(df_1.dtypes)\n",
    "#print(df_test1)\n",
    "#df_1.to_csv(r\"/Users/viveksavita/train2.csv\")"
   ]
  },
  {
   "cell_type": "code",
   "execution_count": 268,
   "metadata": {},
   "outputs": [
    {
     "name": "stdout",
     "output_type": "stream",
     "text": [
      "['invoice_month', 'label', 'Country', 'Quantity']\n",
      "   invoice_month  label  Country  Quantity\n",
      "0              5    7.0       35         3\n",
      "1              5    5.0       35         6\n",
      "2             11    8.0       35         4\n",
      "3             11    1.0       35         1\n",
      "4              5    4.0       35        12\n",
      "   UnitPrice\n",
      "0       3.75\n",
      "1       1.95\n",
      "2       5.95\n",
      "3       0.83\n",
      "4       1.65\n",
      "        invoice_month  label  Country  Quantity\n",
      "0                   1    2.0       35        14\n",
      "1                   1    2.0       35         6\n",
      "2                   1    2.0       35         1\n",
      "3                   1    2.0       13       120\n",
      "4                   1    2.0       13        12\n",
      "...               ...    ...      ...       ...\n",
      "122044              7    6.0       35         6\n",
      "122045              1    0.0       13        15\n",
      "122046              9    0.0       35        17\n",
      "122047              9    5.0       35        48\n",
      "122048              8    8.0       35         1\n",
      "\n",
      "[122049 rows x 4 columns]\n"
     ]
    }
   ],
   "source": [
    "\n",
    "\n",
    "cat_col = ['invoice_month','label','Country']#,'invoice_month','invoice_year']  #['StockCode','Description','CustomerID','Country' ] #,'invoice_month','invoice_year']\n",
    "con_col = ['Quantity']\n",
    "target = ['UnitPrice']\n",
    "\n",
    "\n",
    "features = cat_col + con_col\n",
    "print(features)\n",
    "\n",
    "df_feature = df_1[features]\n",
    "df_label = df_1[target]\n",
    "\n",
    "print(df_feature.head())\n",
    "print(df_label.head())\n",
    "\n",
    "df_test_feature = df_test1[features]\n",
    "\n",
    "print(df_test_feature)\n"
   ]
  },
  {
   "cell_type": "code",
   "execution_count": 270,
   "metadata": {},
   "outputs": [
    {
     "name": "stdout",
     "output_type": "stream",
     "text": [
      "        Quantity  invoice_month_2  invoice_month_3  invoice_month_4  \\\n",
      "0      -0.030729                0                0                0   \n",
      "1      -0.020609                0                0                0   \n",
      "2      -0.027355                0                0                0   \n",
      "3      -0.037475                0                0                0   \n",
      "4      -0.000371                0                0                0   \n",
      "...          ...              ...              ...              ...   \n",
      "282154 -0.020609                0                1                0   \n",
      "282155  0.013122                0                0                0   \n",
      "282156 -0.027355                0                0                0   \n",
      "282157  0.121061                0                0                0   \n",
      "282158 -0.034102                0                0                0   \n",
      "\n",
      "        invoice_month_5  invoice_month_6  invoice_month_7  invoice_month_8  \\\n",
      "0                     1                0                0                0   \n",
      "1                     1                0                0                0   \n",
      "2                     0                0                0                0   \n",
      "3                     0                0                0                0   \n",
      "4                     1                0                0                0   \n",
      "...                 ...              ...              ...              ...   \n",
      "282154                0                0                0                0   \n",
      "282155                0                0                0                0   \n",
      "282156                1                0                0                0   \n",
      "282157                0                0                0                0   \n",
      "282158                0                0                0                1   \n",
      "\n",
      "        invoice_month_9  invoice_month_10  ...  Country_27  Country_28  \\\n",
      "0                     0                 0  ...           0           0   \n",
      "1                     0                 0  ...           0           0   \n",
      "2                     0                 0  ...           0           0   \n",
      "3                     0                 0  ...           0           0   \n",
      "4                     0                 0  ...           0           0   \n",
      "...                 ...               ...  ...         ...         ...   \n",
      "282154                0                 0  ...           0           0   \n",
      "282155                0                 1  ...           0           0   \n",
      "282156                0                 0  ...           0           0   \n",
      "282157                0                 1  ...           0           0   \n",
      "282158                0                 0  ...           0           0   \n",
      "\n",
      "        Country_29  Country_30  Country_31  Country_32  Country_33  \\\n",
      "0                0           0           0           0           0   \n",
      "1                0           0           0           0           0   \n",
      "2                0           0           0           0           0   \n",
      "3                0           0           0           0           0   \n",
      "4                0           0           0           0           0   \n",
      "...            ...         ...         ...         ...         ...   \n",
      "282154           0           0           0           0           0   \n",
      "282155           0           0           0           0           0   \n",
      "282156           0           0           0           0           0   \n",
      "282157           0           0           0           0           0   \n",
      "282158           0           0           0           0           0   \n",
      "\n",
      "        Country_34  Country_35  Country_36  \n",
      "0                0           1           0  \n",
      "1                0           1           0  \n",
      "2                0           1           0  \n",
      "3                0           1           0  \n",
      "4                0           1           0  \n",
      "...            ...         ...         ...  \n",
      "282154           0           1           0  \n",
      "282155           0           1           0  \n",
      "282156           0           1           0  \n",
      "282157           0           1           0  \n",
      "282158           0           1           0  \n",
      "\n",
      "[282159 rows x 57 columns]\n",
      "        Quantity  invoice_month_2  invoice_month_3  invoice_month_4  \\\n",
      "0       0.006376                0                0                0   \n",
      "1      -0.020609                0                0                0   \n",
      "2      -0.037475                0                0                0   \n",
      "3       0.363924                0                0                0   \n",
      "4      -0.000371                0                0                0   \n",
      "...          ...              ...              ...              ...   \n",
      "122044 -0.020609                0                0                0   \n",
      "122045  0.009749                0                0                0   \n",
      "122046  0.016495                0                0                0   \n",
      "122047  0.121061                0                0                0   \n",
      "122048 -0.037475                0                0                0   \n",
      "\n",
      "        invoice_month_5  invoice_month_6  invoice_month_7  invoice_month_8  \\\n",
      "0                     0                0                0                0   \n",
      "1                     0                0                0                0   \n",
      "2                     0                0                0                0   \n",
      "3                     0                0                0                0   \n",
      "4                     0                0                0                0   \n",
      "...                 ...              ...              ...              ...   \n",
      "122044                0                0                1                0   \n",
      "122045                0                0                0                0   \n",
      "122046                0                0                0                0   \n",
      "122047                0                0                0                0   \n",
      "122048                0                0                0                1   \n",
      "\n",
      "        invoice_month_9  invoice_month_10  ...  Country_27  Country_28  \\\n",
      "0                     0                 0  ...           0           0   \n",
      "1                     0                 0  ...           0           0   \n",
      "2                     0                 0  ...           0           0   \n",
      "3                     0                 0  ...           0           0   \n",
      "4                     0                 0  ...           0           0   \n",
      "...                 ...               ...  ...         ...         ...   \n",
      "122044                0                 0  ...           0           0   \n",
      "122045                0                 0  ...           0           0   \n",
      "122046                1                 0  ...           0           0   \n",
      "122047                1                 0  ...           0           0   \n",
      "122048                0                 0  ...           0           0   \n",
      "\n",
      "        Country_29  Country_30  Country_31  Country_32  Country_33  \\\n",
      "0                0           0           0           0           0   \n",
      "1                0           0           0           0           0   \n",
      "2                0           0           0           0           0   \n",
      "3                0           0           0           0           0   \n",
      "4                0           0           0           0           0   \n",
      "...            ...         ...         ...         ...         ...   \n",
      "122044           0           0           0           0           0   \n",
      "122045           0           0           0           0           0   \n",
      "122046           0           0           0           0           0   \n",
      "122047           0           0           0           0           0   \n",
      "122048           0           0           0           0           0   \n",
      "\n",
      "        Country_34  Country_35  Country_36  \n",
      "0                0           1           0  \n",
      "1                0           1           0  \n",
      "2                0           1           0  \n",
      "3                0           0           0  \n",
      "4                0           0           0  \n",
      "...            ...         ...         ...  \n",
      "122044           0           1           0  \n",
      "122045           0           0           0  \n",
      "122046           0           1           0  \n",
      "122047           0           1           0  \n",
      "122048           0           1           0  \n",
      "\n",
      "[122049 rows x 57 columns]\n"
     ]
    },
    {
     "name": "stderr",
     "output_type": "stream",
     "text": [
      "/opt/anaconda3/lib/python3.8/site-packages/sklearn/ensemble/_gb.py:1454: DataConversionWarning: A column-vector y was passed when a 1d array was expected. Please change the shape of y to (n_samples, ), for example using ravel().\n",
      "  y = column_or_1d(y, warn=True)\n"
     ]
    },
    {
     "name": "stdout",
     "output_type": "stream",
     "text": [
      "122049\n",
      "        UnitPrice\n",
      "0        0.854441\n",
      "1        1.031488\n",
      "2        1.193524\n",
      "3        0.713936\n",
      "4        0.772843\n",
      "...           ...\n",
      "122044   2.155541\n",
      "122045   1.009684\n",
      "122046   1.091282\n",
      "122047   1.556072\n",
      "122048   4.874429\n",
      "\n",
      "[122049 rows x 1 columns]\n"
     ]
    }
   ],
   "source": [
    " \n",
    "df_features1 = pd.get_dummies(df_feature , columns=cat_col, drop_first=True)\n",
    "s = StandardScaler()\n",
    "#print(s.fit_transform(df_feature[['Quantity']]).reshape(-1,1))\n",
    "df_features1['Quantity'] = s.fit_transform(df_feature[['Quantity']]).reshape(-1,1)\n",
    "print(df_features1)\n",
    "\n",
    "\n",
    "df_test_feature1 = pd.get_dummies(df_test_feature , columns=cat_col, drop_first=True)\n",
    "\n",
    "df_test_feature1['Quantity'] = s.transform(df_test_feature[['Quantity']]).reshape(-1,1)\n",
    "print(df_test_feature1)\n",
    "\n",
    "\n",
    "\n",
    "\n",
    "\n",
    "gb = GradientBoostingRegressor()\n",
    "gb.fit(df_features1,df_label)\n",
    "y_pred= gb.predict(df_test_feature1)\n",
    "final_pred = pd.DataFrame(y_pred, columns=['UnitPrice'])\n",
    "print(len(final_pred))\n",
    "print(final_pred)\n"
   ]
  },
  {
   "cell_type": "code",
   "execution_count": 271,
   "metadata": {},
   "outputs": [],
   "source": [
    "final_pred = pd.DataFrame(y_pred, columns=['UnitPrice'])\n",
    "final_pred.to_csv(r\"/Users/viveksavita/predictions_5.csv\")"
   ]
  },
  {
   "cell_type": "code",
   "execution_count": 247,
   "metadata": {},
   "outputs": [],
   "source": [
    "# Train and test split\n",
    "X_train, X_test,y_train,y_test = train_test_split(df_feature,df_label, random_state=20)\n",
    "\n",
    "\n",
    "from sklearn.preprocessing import StandardScaler , OneHotEncoder \n",
    "from sklearn.compose import ColumnTransformer\n",
    "from sklearn.linear_model import LinearRegression\n",
    "from sklearn.linear_model import Lasso\n",
    "from sklearn.linear_model import ElasticNet\n",
    "from sklearn.tree import DecisionTreeRegressor\n",
    "from sklearn.neighbors import KNeighborsRegressor\n",
    "from sklearn.ensemble import GradientBoostingRegressor\n",
    "from sklearn import metrics \n",
    "from sklearn.model_selection import cross_val_predict\n"
   ]
  },
  {
   "cell_type": "code",
   "execution_count": 255,
   "metadata": {},
   "outputs": [
    {
     "name": "stderr",
     "output_type": "stream",
     "text": [
      "/opt/anaconda3/lib/python3.8/site-packages/sklearn/model_selection/_split.py:292: FutureWarning: Setting a random_state has no effect since shuffle is False. This will raise an error in 0.24. You should leave random_state to its default (None), or set shuffle=True.\n",
      "  warnings.warn(\n",
      "/opt/anaconda3/lib/python3.8/site-packages/sklearn/ensemble/_gb.py:1454: DataConversionWarning: A column-vector y was passed when a 1d array was expected. Please change the shape of y to (n_samples, ), for example using ravel().\n",
      "  y = column_or_1d(y, warn=True)\n",
      "/opt/anaconda3/lib/python3.8/site-packages/sklearn/ensemble/_gb.py:1454: DataConversionWarning: A column-vector y was passed when a 1d array was expected. Please change the shape of y to (n_samples, ), for example using ravel().\n",
      "  y = column_or_1d(y, warn=True)\n",
      "/opt/anaconda3/lib/python3.8/site-packages/sklearn/ensemble/_gb.py:1454: DataConversionWarning: A column-vector y was passed when a 1d array was expected. Please change the shape of y to (n_samples, ), for example using ravel().\n",
      "  y = column_or_1d(y, warn=True)\n",
      "/opt/anaconda3/lib/python3.8/site-packages/sklearn/ensemble/_gb.py:1454: DataConversionWarning: A column-vector y was passed when a 1d array was expected. Please change the shape of y to (n_samples, ), for example using ravel().\n",
      "  y = column_or_1d(y, warn=True)\n",
      "/opt/anaconda3/lib/python3.8/site-packages/sklearn/ensemble/_gb.py:1454: DataConversionWarning: A column-vector y was passed when a 1d array was expected. Please change the shape of y to (n_samples, ), for example using ravel().\n",
      "  y = column_or_1d(y, warn=True)\n"
     ]
    },
    {
     "name": "stdout",
     "output_type": "stream",
     "text": [
      "GradientBoostingRegressor(alpha=0.9, ccp_alpha=0.0, criterion='friedman_mse',\n",
      "                          init=None, learning_rate=0.1, loss='ls', max_depth=3,\n",
      "                          max_features=None, max_leaf_nodes=None,\n",
      "                          min_impurity_decrease=0.0, min_impurity_split=None,\n",
      "                          min_samples_leaf=1, min_samples_split=2,\n",
      "                          min_weight_fraction_leaf=0.0, n_estimators=100,\n",
      "                          n_iter_no_change=None, presort='deprecated',\n",
      "                          random_state=None, subsample=1.0, tol=0.0001,\n",
      "                          validation_fraction=0.1, verbose=0, warm_start=False) 78.39850283591055\n"
     ]
    }
   ],
   "source": [
    "con_transformer = Pipeline(steps=[('scaler', StandardScaler())])\n",
    "cat_transformer = Pipeline(steps =[('onehotencoding',OneHotEncoder(handle_unknown='ignore'))])\n",
    "\n",
    "\n",
    "preprocessor = ColumnTransformer(\n",
    "    transformers=[\n",
    "    #('num', con_transformer , con_col),\n",
    "    ('cat',cat_transformer,cat_col)\n",
    "])\n",
    "\n",
    "\n",
    "\n",
    "lr = Pipeline(\n",
    "    steps=[('prep', preprocessor),\n",
    "           ('regression',LinearRegression())    \n",
    "])\n",
    "\n",
    "\n",
    "regressors = [#LinearRegression(),\n",
    "             #Lasso(),\n",
    "             #ElasticNet(),\n",
    "             #DecisionTreeRegressor()\n",
    "             #KNeighborsRegressor(),\n",
    "             GradientBoostingRegressor()\n",
    "]\n",
    "\n",
    "cv = KFold(n_splits=3, random_state=42, shuffle=False)\n",
    "\n",
    "for reg in regressors:\n",
    "    lr = Pipeline(\n",
    "        steps=[('prep', preprocessor),\n",
    "               ('regression',    reg)\n",
    "              ])\n",
    "    #lr.fit(X_train,y_train)\n",
    "    #y_pred = lr.predict(X_test)\n",
    "    y_pred = cross_val_predict(lr, df_feature, df_label, cv=5)\n",
    "    \n",
    "    #print(scores)\n",
    "    print(reg,np.sqrt(metrics.mean_squared_error(df_label,y_pred)))\n",
    "    #print(reg,np.sqrt(metrics.mean_squared_error(y_test,y_pred)))\n",
    "    \n"
   ]
  },
  {
   "cell_type": "code",
   "execution_count": 256,
   "metadata": {},
   "outputs": [
    {
     "name": "stderr",
     "output_type": "stream",
     "text": [
      "/opt/anaconda3/lib/python3.8/site-packages/sklearn/ensemble/_gb.py:1454: DataConversionWarning: A column-vector y was passed when a 1d array was expected. Please change the shape of y to (n_samples, ), for example using ravel().\n",
      "  y = column_or_1d(y, warn=True)\n"
     ]
    },
    {
     "data": {
      "text/plain": [
       "Pipeline(memory=None,\n",
       "         steps=[('prep',\n",
       "                 ColumnTransformer(n_jobs=None, remainder='drop',\n",
       "                                   sparse_threshold=0.3,\n",
       "                                   transformer_weights=None,\n",
       "                                   transformers=[('cat',\n",
       "                                                  Pipeline(memory=None,\n",
       "                                                           steps=[('onehotencoding',\n",
       "                                                                   OneHotEncoder(categories='auto',\n",
       "                                                                                 drop=None,\n",
       "                                                                                 dtype=<class 'numpy.float64'>,\n",
       "                                                                                 handle_unknown='ignore',\n",
       "                                                                                 sparse=True))],\n",
       "                                                           verbose=False),\n",
       "                                                  ['invoice_month', 'label',\n",
       "                                                   'Cou...\n",
       "                                           learning_rate=0.1, loss='ls',\n",
       "                                           max_depth=3, max_features=None,\n",
       "                                           max_leaf_nodes=None,\n",
       "                                           min_impurity_decrease=0.0,\n",
       "                                           min_impurity_split=None,\n",
       "                                           min_samples_leaf=1,\n",
       "                                           min_samples_split=2,\n",
       "                                           min_weight_fraction_leaf=0.0,\n",
       "                                           n_estimators=100,\n",
       "                                           n_iter_no_change=None,\n",
       "                                           presort='deprecated',\n",
       "                                           random_state=None, subsample=1.0,\n",
       "                                           tol=0.0001, validation_fraction=0.1,\n",
       "                                           verbose=0, warm_start=False))],\n",
       "         verbose=False)"
      ]
     },
     "execution_count": 256,
     "metadata": {},
     "output_type": "execute_result"
    }
   ],
   "source": [
    "\n",
    "lr.fit(df_feature, df_label)"
   ]
  },
  {
   "cell_type": "code",
   "execution_count": 257,
   "metadata": {},
   "outputs": [
    {
     "ename": "ValueError",
     "evalue": "Number of features of the input must be equal to or greater than that of the fitted transformer. Transformer n_features is 4 and input n_features is 3.",
     "output_type": "error",
     "traceback": [
      "\u001b[0;31m---------------------------------------------------------------------------\u001b[0m",
      "\u001b[0;31mValueError\u001b[0m                                Traceback (most recent call last)",
      "\u001b[0;32m<ipython-input-257-8ea5d78842db>\u001b[0m in \u001b[0;36m<module>\u001b[0;34m\u001b[0m\n\u001b[0;32m----> 1\u001b[0;31m \u001b[0mfinal_pred\u001b[0m \u001b[0;34m=\u001b[0m \u001b[0mpd\u001b[0m\u001b[0;34m.\u001b[0m\u001b[0mDataFrame\u001b[0m\u001b[0;34m(\u001b[0m\u001b[0mlr\u001b[0m\u001b[0;34m.\u001b[0m\u001b[0mpredict\u001b[0m\u001b[0;34m(\u001b[0m\u001b[0mdf_impute_test\u001b[0m\u001b[0;34m)\u001b[0m\u001b[0;34m,\u001b[0m \u001b[0mcolumns\u001b[0m\u001b[0;34m=\u001b[0m\u001b[0;34m[\u001b[0m\u001b[0;34m'UnitPrice'\u001b[0m\u001b[0;34m]\u001b[0m\u001b[0;34m)\u001b[0m\u001b[0;34m\u001b[0m\u001b[0;34m\u001b[0m\u001b[0m\n\u001b[0m\u001b[1;32m      2\u001b[0m \u001b[0mprint\u001b[0m\u001b[0;34m(\u001b[0m\u001b[0mfinal_pred\u001b[0m\u001b[0;34m)\u001b[0m\u001b[0;34m\u001b[0m\u001b[0;34m\u001b[0m\u001b[0m\n",
      "\u001b[0;32m/opt/anaconda3/lib/python3.8/site-packages/sklearn/utils/metaestimators.py\u001b[0m in \u001b[0;36m<lambda>\u001b[0;34m(*args, **kwargs)\u001b[0m\n\u001b[1;32m    114\u001b[0m \u001b[0;34m\u001b[0m\u001b[0m\n\u001b[1;32m    115\u001b[0m         \u001b[0;31m# lambda, but not partial, allows help() to work with update_wrapper\u001b[0m\u001b[0;34m\u001b[0m\u001b[0;34m\u001b[0m\u001b[0;34m\u001b[0m\u001b[0m\n\u001b[0;32m--> 116\u001b[0;31m         \u001b[0mout\u001b[0m \u001b[0;34m=\u001b[0m \u001b[0;32mlambda\u001b[0m \u001b[0;34m*\u001b[0m\u001b[0margs\u001b[0m\u001b[0;34m,\u001b[0m \u001b[0;34m**\u001b[0m\u001b[0mkwargs\u001b[0m\u001b[0;34m:\u001b[0m \u001b[0mself\u001b[0m\u001b[0;34m.\u001b[0m\u001b[0mfn\u001b[0m\u001b[0;34m(\u001b[0m\u001b[0mobj\u001b[0m\u001b[0;34m,\u001b[0m \u001b[0;34m*\u001b[0m\u001b[0margs\u001b[0m\u001b[0;34m,\u001b[0m \u001b[0;34m**\u001b[0m\u001b[0mkwargs\u001b[0m\u001b[0;34m)\u001b[0m\u001b[0;34m\u001b[0m\u001b[0;34m\u001b[0m\u001b[0m\n\u001b[0m\u001b[1;32m    117\u001b[0m         \u001b[0;31m# update the docstring of the returned function\u001b[0m\u001b[0;34m\u001b[0m\u001b[0;34m\u001b[0m\u001b[0;34m\u001b[0m\u001b[0m\n\u001b[1;32m    118\u001b[0m         \u001b[0mupdate_wrapper\u001b[0m\u001b[0;34m(\u001b[0m\u001b[0mout\u001b[0m\u001b[0;34m,\u001b[0m \u001b[0mself\u001b[0m\u001b[0;34m.\u001b[0m\u001b[0mfn\u001b[0m\u001b[0;34m)\u001b[0m\u001b[0;34m\u001b[0m\u001b[0;34m\u001b[0m\u001b[0m\n",
      "\u001b[0;32m/opt/anaconda3/lib/python3.8/site-packages/sklearn/pipeline.py\u001b[0m in \u001b[0;36mpredict\u001b[0;34m(self, X, **predict_params)\u001b[0m\n\u001b[1;32m    417\u001b[0m         \u001b[0mXt\u001b[0m \u001b[0;34m=\u001b[0m \u001b[0mX\u001b[0m\u001b[0;34m\u001b[0m\u001b[0;34m\u001b[0m\u001b[0m\n\u001b[1;32m    418\u001b[0m         \u001b[0;32mfor\u001b[0m \u001b[0m_\u001b[0m\u001b[0;34m,\u001b[0m \u001b[0mname\u001b[0m\u001b[0;34m,\u001b[0m \u001b[0mtransform\u001b[0m \u001b[0;32min\u001b[0m \u001b[0mself\u001b[0m\u001b[0;34m.\u001b[0m\u001b[0m_iter\u001b[0m\u001b[0;34m(\u001b[0m\u001b[0mwith_final\u001b[0m\u001b[0;34m=\u001b[0m\u001b[0;32mFalse\u001b[0m\u001b[0;34m)\u001b[0m\u001b[0;34m:\u001b[0m\u001b[0;34m\u001b[0m\u001b[0;34m\u001b[0m\u001b[0m\n\u001b[0;32m--> 419\u001b[0;31m             \u001b[0mXt\u001b[0m \u001b[0;34m=\u001b[0m \u001b[0mtransform\u001b[0m\u001b[0;34m.\u001b[0m\u001b[0mtransform\u001b[0m\u001b[0;34m(\u001b[0m\u001b[0mXt\u001b[0m\u001b[0;34m)\u001b[0m\u001b[0;34m\u001b[0m\u001b[0;34m\u001b[0m\u001b[0m\n\u001b[0m\u001b[1;32m    420\u001b[0m         \u001b[0;32mreturn\u001b[0m \u001b[0mself\u001b[0m\u001b[0;34m.\u001b[0m\u001b[0msteps\u001b[0m\u001b[0;34m[\u001b[0m\u001b[0;34m-\u001b[0m\u001b[0;36m1\u001b[0m\u001b[0;34m]\u001b[0m\u001b[0;34m[\u001b[0m\u001b[0;34m-\u001b[0m\u001b[0;36m1\u001b[0m\u001b[0;34m]\u001b[0m\u001b[0;34m.\u001b[0m\u001b[0mpredict\u001b[0m\u001b[0;34m(\u001b[0m\u001b[0mXt\u001b[0m\u001b[0;34m,\u001b[0m \u001b[0;34m**\u001b[0m\u001b[0mpredict_params\u001b[0m\u001b[0;34m)\u001b[0m\u001b[0;34m\u001b[0m\u001b[0;34m\u001b[0m\u001b[0m\n\u001b[1;32m    421\u001b[0m \u001b[0;34m\u001b[0m\u001b[0m\n",
      "\u001b[0;32m/opt/anaconda3/lib/python3.8/site-packages/sklearn/compose/_column_transformer.py\u001b[0m in \u001b[0;36mtransform\u001b[0;34m(self, X)\u001b[0m\n\u001b[1;32m    565\u001b[0m \u001b[0;34m\u001b[0m\u001b[0m\n\u001b[1;32m    566\u001b[0m         \u001b[0;32mif\u001b[0m \u001b[0mself\u001b[0m\u001b[0;34m.\u001b[0m\u001b[0m_n_features\u001b[0m \u001b[0;34m>\u001b[0m \u001b[0mX\u001b[0m\u001b[0;34m.\u001b[0m\u001b[0mshape\u001b[0m\u001b[0;34m[\u001b[0m\u001b[0;36m1\u001b[0m\u001b[0;34m]\u001b[0m\u001b[0;34m:\u001b[0m\u001b[0;34m\u001b[0m\u001b[0;34m\u001b[0m\u001b[0m\n\u001b[0;32m--> 567\u001b[0;31m             raise ValueError('Number of features of the input must be equal '\n\u001b[0m\u001b[1;32m    568\u001b[0m                              \u001b[0;34m'to or greater than that of the fitted '\u001b[0m\u001b[0;34m\u001b[0m\u001b[0;34m\u001b[0m\u001b[0m\n\u001b[1;32m    569\u001b[0m                              \u001b[0;34m'transformer. Transformer n_features is {0} '\u001b[0m\u001b[0;34m\u001b[0m\u001b[0;34m\u001b[0m\u001b[0m\n",
      "\u001b[0;31mValueError\u001b[0m: Number of features of the input must be equal to or greater than that of the fitted transformer. Transformer n_features is 4 and input n_features is 3."
     ]
    }
   ],
   "source": [
    "\n",
    "final_pred = pd.DataFrame(lr.predict(df_impute_test), columns=['UnitPrice'])\n",
    "print(final_pred)"
   ]
  },
  {
   "cell_type": "code",
   "execution_count": 31,
   "metadata": {},
   "outputs": [
    {
     "name": "stdout",
     "output_type": "stream",
     "text": [
      "[ 15.08739637  25.72352567  22.50367223  18.92129629 232.82326923\n",
      "  16.04811621  11.21107857  31.26270039  50.07123503  25.66053819]\n",
      "LinearRegression(copy_X=True, fit_intercept=True, n_jobs=None, normalize=False) 77.77326294781457\n"
     ]
    }
   ],
   "source": [
    "lr = LinearRegression()\n",
    "lr.fit(X_train,y_train)\n",
    "#y_pred=lr.predict(X_test)\n",
    "\n",
    "y_pred = cross_val_predict(lr, df_feature,df_label, cv=10)\n",
    "print(np.sqrt(abs(cross_val_score(lr, df_feature,df_label, scoring = 'neg_mean_squared_error',cv=10 ))))\n",
    "print(lr,np.sqrt(metrics.mean_squared_error(df_label,y_pred)))\n",
    "\n",
    "\n",
    "\n"
   ]
  },
  {
   "cell_type": "code",
   "execution_count": 35,
   "metadata": {},
   "outputs": [
    {
     "name": "stdout",
     "output_type": "stream",
     "text": [
      "        Quantity  stockcodeencoded  countryencoded\n",
      "0            3.0          3.745719        3.247452\n",
      "1            1.0          1.973005        3.247452\n",
      "2           36.0          5.895338        3.247452\n",
      "3            2.0          0.824939        3.247452\n",
      "4            1.0          1.635841        3.247452\n",
      "...          ...               ...             ...\n",
      "122044      12.0          0.431496        3.247452\n",
      "122045      16.0          1.258647        4.799693\n",
      "122046       6.0          1.261797        3.247452\n",
      "122047       1.0          0.640821        3.247452\n",
      "122048       3.0          9.862500        3.247452\n",
      "\n",
      "[122049 rows x 3 columns]\n",
      "        InvoiceNo  StockCode  Description  Quantity          InvoiceDate  \\\n",
      "0            3139       1709         1079         3  2011-02-22 15:22:00   \n",
      "1             617        510         3457         1  2010-12-08 12:46:00   \n",
      "2           14653        604          694        36  2011-10-25 13:53:00   \n",
      "3            8634       1478         3473         2  2011-06-27 12:38:00   \n",
      "4           15546       3216          871         1  2011-11-06 16:14:00   \n",
      "...           ...        ...          ...       ...                  ...   \n",
      "122044       7813       2487         1289        12  2011-06-09 09:44:00   \n",
      "122045       8694       3069          217        16  2011-06-28 15:47:00   \n",
      "122046        915       1419         3474         6  2010-12-13 12:26:00   \n",
      "122047       8156       1631         1434         1  2011-06-16 12:45:00   \n",
      "122048      12020       2088          706         3  2011-09-12 13:50:00   \n",
      "\n",
      "        CustomerID  Country  stockcodeencoded  countryencoded  UnitPrice  \n",
      "0          16161.0       35          3.745719        3.247452   3.581808  \n",
      "1          17341.0       35          1.973005        3.247452   1.820167  \n",
      "2          15158.0       35          5.895338        3.247452   5.716402  \n",
      "3          16033.0       35          0.824939        3.247452   0.679151  \n",
      "4          15351.0       35          1.635841        3.247452   1.485088  \n",
      "...            ...      ...               ...             ...        ...  \n",
      "122044     15214.0       35          0.431496        3.247452   0.287619  \n",
      "122045     16200.0       35          1.258647        4.799693   2.294284  \n",
      "122046     15555.0       35          1.261797        3.247452   1.113097  \n",
      "122047     15907.0       35          0.640821        3.247452   0.496225  \n",
      "122048     16360.0       35          9.862500        3.247452   9.660746  \n",
      "\n",
      "[122049 rows x 10 columns]\n"
     ]
    }
   ],
   "source": [
    "lr.fit(df_feature,df_label)\n",
    "\n",
    "\n",
    "from sklearn.impute import SimpleImputer\n",
    "\n",
    "imputer = SimpleImputer()\n",
    "imputer.fit(df_feature)\n",
    "\n",
    "df_impute_test = pd.DataFrame(imputer.transform(df_test_feature), columns = features)\n",
    "\n",
    "print(df_impute_test)\n",
    "final_pred = pd.DataFrame(lr.predict(df_impute_test), columns=['UnitPrice'])\n",
    "\n",
    "df_test_final = pd.concat([df_test,final_pred], axis=1)\n",
    "\n",
    "print(df_test_final)\n",
    "df_test_final.to_csv(r\"/Users/viveksavita/predictions_test.csv\", index=False, header=True)"
   ]
  },
  {
   "cell_type": "code",
   "execution_count": null,
   "metadata": {},
   "outputs": [],
   "source": []
  }
 ],
 "metadata": {
  "kernelspec": {
   "display_name": "Python 3",
   "language": "python",
   "name": "python3"
  },
  "language_info": {
   "codemirror_mode": {
    "name": "ipython",
    "version": 3
   },
   "file_extension": ".py",
   "mimetype": "text/x-python",
   "name": "python",
   "nbconvert_exporter": "python",
   "pygments_lexer": "ipython3",
   "version": "3.8.3"
  }
 },
 "nbformat": 4,
 "nbformat_minor": 4
}
