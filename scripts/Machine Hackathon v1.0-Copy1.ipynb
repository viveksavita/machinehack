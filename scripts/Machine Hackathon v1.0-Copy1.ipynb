{
 "cells": [
  {
   "cell_type": "code",
   "execution_count": 1,
   "metadata": {},
   "outputs": [],
   "source": [
    "import pandas as pd\n",
    "import numpy as np\n",
    "import pandas_profiling \n",
    "from matplotlib import pyplot as plt\n",
    "from datetime import datetime"
   ]
  },
  {
   "cell_type": "code",
   "execution_count": 2,
   "metadata": {},
   "outputs": [
    {
     "name": "stdout",
     "output_type": "stream",
     "text": [
      "   InvoiceNo  StockCode  Description  Quantity          InvoiceDate  \\\n",
      "0       6141       1583          144         3  2011-05-06 16:54:00   \n",
      "1       6349       1300         3682         6  2011-05-11 07:35:00   \n",
      "2      16783       2178         1939         4  2011-11-20 13:20:00   \n",
      "3      16971       2115         2983         1  2011-11-22 12:07:00   \n",
      "4       6080       1210         2886        12  2011-05-06 09:00:00   \n",
      "\n",
      "   UnitPrice  CustomerID  Country  \n",
      "0       3.75     14056.0       35  \n",
      "1       1.95     13098.0       35  \n",
      "2       5.95     15044.0       35  \n",
      "3       0.83     15525.0       35  \n",
      "4       1.65     13952.0       35  \n",
      "   InvoiceNo  StockCode  Description  Quantity          InvoiceDate  \\\n",
      "0       3139       1709         1079         3  2011-02-22 15:22:00   \n",
      "1        617        510         3457         1  2010-12-08 12:46:00   \n",
      "2      14653        604          694        36  2011-10-25 13:53:00   \n",
      "3       8634       1478         3473         2  2011-06-27 12:38:00   \n",
      "4      15546       3216          871         1  2011-11-06 16:14:00   \n",
      "\n",
      "   CustomerID  Country  \n",
      "0     16161.0       35  \n",
      "1     17341.0       35  \n",
      "2     15158.0       35  \n",
      "3     16033.0       35  \n",
      "4     15351.0       35  \n"
     ]
    }
   ],
   "source": [
    "df = pd.read_csv(r\"/Users/viveksavita/Downloads/Participants_Data_TGIH/train.csv\")\n",
    "df_test = pd.read_csv(r\"/Users/viveksavita/Downloads/Participants_Data_TGIH/test.csv\")\n",
    "\n",
    "print(df.head())\n",
    "print(df_test.head())"
   ]
  },
  {
   "cell_type": "code",
   "execution_count": 3,
   "metadata": {},
   "outputs": [],
   "source": [
    "#df.profile_report()"
   ]
  },
  {
   "cell_type": "code",
   "execution_count": 4,
   "metadata": {},
   "outputs": [],
   "source": [
    "def convert_date(df):\n",
    "    df[\"InvoiceDate\"] = df[\"InvoiceDate\"].apply(lambda x : datetime.strptime(x,\"%Y-%m-%d %H:%M:%S\"))\n",
    "    return df\n",
    "\n",
    "\n",
    "df = convert_date(df)\n",
    "df_test =     convert_date(df_test)      \n",
    "\n"
   ]
  },
  {
   "cell_type": "code",
   "execution_count": 5,
   "metadata": {},
   "outputs": [
    {
     "name": "stdout",
     "output_type": "stream",
     "text": [
      "        InvoiceNo  StockCode  Description  Quantity         InvoiceDate  \\\n",
      "0            6141       1583          144         3 2011-05-06 16:54:00   \n",
      "1            6349       1300         3682         6 2011-05-11 07:35:00   \n",
      "2           16783       2178         1939         4 2011-11-20 13:20:00   \n",
      "3           16971       2115         2983         1 2011-11-22 12:07:00   \n",
      "4            6080       1210         2886        12 2011-05-06 09:00:00   \n",
      "...           ...        ...          ...       ...                 ...   \n",
      "284775       3408       1706         1081         6 2011-03-01 12:07:00   \n",
      "284776      13982       2184         2947        16 2011-10-13 15:08:00   \n",
      "284777       6641        667         3632         4 2011-05-16 12:59:00   \n",
      "284778      13820       1576         3089        48 2011-10-11 14:18:00   \n",
      "284779      11042       2603         1156         2 2011-08-22 13:30:00   \n",
      "\n",
      "        UnitPrice  CustomerID  Country  \n",
      "0            3.75     14056.0       35  \n",
      "1            1.95     13098.0       35  \n",
      "2            5.95     15044.0       35  \n",
      "3            0.83     15525.0       35  \n",
      "4            1.65     13952.0       35  \n",
      "...           ...         ...      ...  \n",
      "284775       1.65     17965.0       35  \n",
      "284776       0.65     16793.0       35  \n",
      "284777       8.50     14755.0       35  \n",
      "284778       3.45     14866.0       35  \n",
      "284779       0.75     17585.0       35  \n",
      "\n",
      "[284780 rows x 8 columns]\n"
     ]
    }
   ],
   "source": [
    "print(df)"
   ]
  },
  {
   "cell_type": "code",
   "execution_count": 6,
   "metadata": {
    "scrolled": true
   },
   "outputs": [
    {
     "name": "stdout",
     "output_type": "stream",
     "text": [
      "282159\n",
      "        StockCode  Description  Quantity         InvoiceDate  UnitPrice  \\\n",
      "0            1583          144         3 2011-05-06 16:54:00       3.75   \n",
      "1            1300         3682         6 2011-05-11 07:35:00       1.95   \n",
      "2            2178         1939         4 2011-11-20 13:20:00       5.95   \n",
      "3            2115         2983         1 2011-11-22 12:07:00       0.83   \n",
      "4            1210         2886        12 2011-05-06 09:00:00       1.65   \n",
      "...           ...          ...       ...                 ...        ...   \n",
      "282154       1706         1081         6 2011-03-01 12:07:00       1.65   \n",
      "282155       2184         2947        16 2011-10-13 15:08:00       0.65   \n",
      "282156        667         3632         4 2011-05-16 12:59:00       8.50   \n",
      "282157       1576         3089        48 2011-10-11 14:18:00       3.45   \n",
      "282158       2603         1156         2 2011-08-22 13:30:00       0.75   \n",
      "\n",
      "        CustomerID  Country  \n",
      "0          14056.0       35  \n",
      "1          13098.0       35  \n",
      "2          15044.0       35  \n",
      "3          15525.0       35  \n",
      "4          13952.0       35  \n",
      "...            ...      ...  \n",
      "282154     17965.0       35  \n",
      "282155     16793.0       35  \n",
      "282156     14755.0       35  \n",
      "282157     14866.0       35  \n",
      "282158     17585.0       35  \n",
      "\n",
      "[282159 rows x 7 columns]\n",
      "Index(['StockCode', 'Description', 'Quantity', 'InvoiceDate', 'UnitPrice',\n",
      "       'CustomerID', 'Country'],\n",
      "      dtype='object')\n",
      "StockCode\n",
      "3619\n",
      "Description\n",
      "3819\n",
      "Quantity\n",
      "373\n",
      "InvoiceDate\n",
      "19451\n",
      "UnitPrice\n",
      "524\n",
      "CustomerID\n",
      "4339\n",
      "Country\n",
      "37\n"
     ]
    }
   ],
   "source": [
    "df.drop_duplicates(inplace=True)\n",
    "print(len(df))\n",
    "df_1 = df.copy()\n",
    "df_1.reset_index(drop = True, inplace=True )\n",
    "\n",
    "df_1.drop(columns=['InvoiceNo'], axis=1, inplace=True)\n",
    "df_1.describe()\n",
    "print(df_1)\n",
    "\n",
    "df_1_col = df_1.columns\n",
    "print(df_1_col)\n",
    "\n",
    "for i in df_1_col:\n",
    "    print(i)\n",
    "    print(df_1[i].nunique())"
   ]
  },
  {
   "cell_type": "code",
   "execution_count": 7,
   "metadata": {},
   "outputs": [
    {
     "ename": "KeyError",
     "evalue": "'Column not found: InvoiceNo'",
     "output_type": "error",
     "traceback": [
      "\u001b[0;31m---------------------------------------------------------------------------\u001b[0m",
      "\u001b[0;31mKeyError\u001b[0m                                  Traceback (most recent call last)",
      "\u001b[0;32m<ipython-input-7-31a926ac0dad>\u001b[0m in \u001b[0;36m<module>\u001b[0;34m\u001b[0m\n\u001b[0;32m----> 1\u001b[0;31m \u001b[0mdf_bar\u001b[0m\u001b[0;34m=\u001b[0m \u001b[0mpd\u001b[0m\u001b[0;34m.\u001b[0m\u001b[0mDataFrame\u001b[0m\u001b[0;34m(\u001b[0m\u001b[0mdf_1\u001b[0m\u001b[0;34m.\u001b[0m\u001b[0mgroupby\u001b[0m\u001b[0;34m(\u001b[0m\u001b[0;34m[\u001b[0m\u001b[0;34m\"StockCode\"\u001b[0m\u001b[0;34m]\u001b[0m\u001b[0;34m)\u001b[0m\u001b[0;34m[\u001b[0m\u001b[0;34m\"InvoiceNo\"\u001b[0m\u001b[0;34m]\u001b[0m\u001b[0;34m.\u001b[0m\u001b[0mcount\u001b[0m\u001b[0;34m(\u001b[0m\u001b[0;34m)\u001b[0m\u001b[0;34m)\u001b[0m\u001b[0;34m\u001b[0m\u001b[0;34m\u001b[0m\u001b[0m\n\u001b[0m\u001b[1;32m      2\u001b[0m \u001b[0mdf_bar\u001b[0m\u001b[0;34m.\u001b[0m\u001b[0mreset_index\u001b[0m\u001b[0;34m(\u001b[0m\u001b[0minplace\u001b[0m\u001b[0;34m=\u001b[0m\u001b[0;32mTrue\u001b[0m\u001b[0;34m)\u001b[0m\u001b[0;34m\u001b[0m\u001b[0;34m\u001b[0m\u001b[0m\n\u001b[1;32m      3\u001b[0m \u001b[0mprint\u001b[0m\u001b[0;34m(\u001b[0m\u001b[0mdf_bar\u001b[0m\u001b[0;34m)\u001b[0m\u001b[0;34m\u001b[0m\u001b[0;34m\u001b[0m\u001b[0m\n",
      "\u001b[0;32m/opt/anaconda3/lib/python3.8/site-packages/pandas/core/base.py\u001b[0m in \u001b[0;36m__getitem__\u001b[0;34m(self, key)\u001b[0m\n\u001b[1;32m    266\u001b[0m         \u001b[0;32melse\u001b[0m\u001b[0;34m:\u001b[0m\u001b[0;34m\u001b[0m\u001b[0;34m\u001b[0m\u001b[0m\n\u001b[1;32m    267\u001b[0m             \u001b[0;32mif\u001b[0m \u001b[0mkey\u001b[0m \u001b[0;32mnot\u001b[0m \u001b[0;32min\u001b[0m \u001b[0mself\u001b[0m\u001b[0;34m.\u001b[0m\u001b[0mobj\u001b[0m\u001b[0;34m:\u001b[0m\u001b[0;34m\u001b[0m\u001b[0;34m\u001b[0m\u001b[0m\n\u001b[0;32m--> 268\u001b[0;31m                 \u001b[0;32mraise\u001b[0m \u001b[0mKeyError\u001b[0m\u001b[0;34m(\u001b[0m\u001b[0;34m\"Column not found: {key}\"\u001b[0m\u001b[0;34m.\u001b[0m\u001b[0mformat\u001b[0m\u001b[0;34m(\u001b[0m\u001b[0mkey\u001b[0m\u001b[0;34m=\u001b[0m\u001b[0mkey\u001b[0m\u001b[0;34m)\u001b[0m\u001b[0;34m)\u001b[0m\u001b[0;34m\u001b[0m\u001b[0;34m\u001b[0m\u001b[0m\n\u001b[0m\u001b[1;32m    269\u001b[0m             \u001b[0;32mreturn\u001b[0m \u001b[0mself\u001b[0m\u001b[0;34m.\u001b[0m\u001b[0m_gotitem\u001b[0m\u001b[0;34m(\u001b[0m\u001b[0mkey\u001b[0m\u001b[0;34m,\u001b[0m \u001b[0mndim\u001b[0m\u001b[0;34m=\u001b[0m\u001b[0;36m1\u001b[0m\u001b[0;34m)\u001b[0m\u001b[0;34m\u001b[0m\u001b[0;34m\u001b[0m\u001b[0m\n\u001b[1;32m    270\u001b[0m \u001b[0;34m\u001b[0m\u001b[0m\n",
      "\u001b[0;31mKeyError\u001b[0m: 'Column not found: InvoiceNo'"
     ]
    }
   ],
   "source": []
  },
  {
   "cell_type": "code",
   "execution_count": null,
   "metadata": {},
   "outputs": [],
   "source": [
    "\n"
   ]
  },
  {
   "cell_type": "code",
   "execution_count": 8,
   "metadata": {},
   "outputs": [
    {
     "name": "stdout",
     "output_type": "stream",
     "text": [
      "      StockCode  Quantity\n",
      "0             0       574\n",
      "1             1       190\n",
      "2             2       128\n",
      "3             3         5\n",
      "4             4        12\n",
      "...         ...       ...\n",
      "3614       3679      -927\n",
      "3615       3680        14\n",
      "3616       3681      1932\n",
      "3617       3682         4\n",
      "3618       3683      2104\n",
      "\n",
      "[3619 rows x 2 columns]\n"
     ]
    },
    {
     "data": {
      "image/png": "[encoded data removed]",
      "text/plain": [
       "<Figure size 432x288 with 1 Axes>"
      ]
     },
     "metadata": {
      "needs_background": "light"
     },
     "output_type": "display_data"
    }
   ],
   "source": [
    "df_bar_quant= pd.DataFrame(df_1.groupby([\"StockCode\"])[\"Quantity\"].sum())\n",
    "df_bar_quant.reset_index(inplace=True)\n",
    "print(df_bar_quant)\n",
    "\n",
    "plt.bar(df_bar_quant[\"StockCode\"], df_bar_quant[\"Quantity\"] )\n",
    "plt.show()\n"
   ]
  },
  {
   "cell_type": "code",
   "execution_count": 9,
   "metadata": {},
   "outputs": [
    {
     "name": "stdout",
     "output_type": "stream",
     "text": [
      "   StockCode  Quantity\n",
      "0          0       249\n",
      "1          1       101\n",
      "2          2        64\n",
      "3          4         4\n",
      "4          5         5\n"
     ]
    },
    {
     "data": {
      "image/png": "[encoded data removed]",
      "text/plain": [
       "<Figure size 432x288 with 1 Axes>"
      ]
     },
     "metadata": {
      "needs_background": "light"
     },
     "output_type": "display_data"
    }
   ],
   "source": [
    "df_test_quant=pd.DataFrame(df_test.groupby([\"StockCode\"])[\"Quantity\"].sum())\n",
    "df_test_quant.reset_index(inplace=True)\n",
    "print(df_test_quant.head())\n",
    "\n",
    "plt.bar(df_test_quant[\"StockCode\"], df_test_quant[\"Quantity\"] )\n",
    "plt.show()"
   ]
  },
  {
   "cell_type": "code",
   "execution_count": 10,
   "metadata": {},
   "outputs": [
    {
     "name": "stdout",
     "output_type": "stream",
     "text": [
      "StockCode               int64\n",
      "Description             int64\n",
      "Quantity                int64\n",
      "InvoiceDate    datetime64[ns]\n",
      "UnitPrice             float64\n",
      "CustomerID            float64\n",
      "Country                 int64\n",
      "dtype: object\n",
      "282159\n",
      "        StockCode  Description  Quantity         InvoiceDate  UnitPrice  \\\n",
      "0            1583          144         3 2011-05-06 16:54:00       3.75   \n",
      "1            1300         3682         6 2011-05-11 07:35:00       1.95   \n",
      "2            2178         1939         4 2011-11-20 13:20:00       5.95   \n",
      "3            2115         2983         1 2011-11-22 12:07:00       0.83   \n",
      "4            1210         2886        12 2011-05-06 09:00:00       1.65   \n",
      "...           ...          ...       ...                 ...        ...   \n",
      "282154       1706         1081         6 2011-03-01 12:07:00       1.65   \n",
      "282155       2184         2947        16 2011-10-13 15:08:00       0.65   \n",
      "282156        667         3632         4 2011-05-16 12:59:00       8.50   \n",
      "282157       1576         3089        48 2011-10-11 14:18:00       3.45   \n",
      "282158       2603         1156         2 2011-08-22 13:30:00       0.75   \n",
      "\n",
      "        CustomerID  Country  \n",
      "0          14056.0       35  \n",
      "1          13098.0       35  \n",
      "2          15044.0       35  \n",
      "3          15525.0       35  \n",
      "4          13952.0       35  \n",
      "...            ...      ...  \n",
      "282154     17965.0       35  \n",
      "282155     16793.0       35  \n",
      "282156     14755.0       35  \n",
      "282157     14866.0       35  \n",
      "282158     17585.0       35  \n",
      "\n",
      "[282159 rows x 7 columns]\n",
      "StockCode\n",
      "0         0.850000\n",
      "1         0.422857\n",
      "2         0.210000\n",
      "3         0.650000\n",
      "4         0.420000\n",
      "           ...    \n",
      "3679     87.606735\n",
      "3680    781.587857\n",
      "3681    338.893892\n",
      "3682      0.000750\n",
      "3683     33.216726\n",
      "Name: UnitPrice, Length: 3619, dtype: float64\n",
      "StockCode\n",
      "0         0.850000\n",
      "1         0.422857\n",
      "2         0.210000\n",
      "3         0.650000\n",
      "4         0.420000\n",
      "           ...    \n",
      "3679     87.606735\n",
      "3680    781.587857\n",
      "3681    338.893892\n",
      "3682      0.000750\n",
      "3683     33.216726\n",
      "Name: UnitPrice, Length: 3619, dtype: float64\n",
      "        StockCode  Description  Quantity         InvoiceDate  UnitPrice  \\\n",
      "0            1583          144         3 2011-05-06 16:54:00       3.75   \n",
      "1            1300         3682         6 2011-05-11 07:35:00       1.95   \n",
      "2            2178         1939         4 2011-11-20 13:20:00       5.95   \n",
      "3            2115         2983         1 2011-11-22 12:07:00       0.83   \n",
      "4            1210         2886        12 2011-05-06 09:00:00       1.65   \n",
      "...           ...          ...       ...                 ...        ...   \n",
      "282154       1706         1081         6 2011-03-01 12:07:00       1.65   \n",
      "282155       2184         2947        16 2011-10-13 15:08:00       0.65   \n",
      "282156        667         3632         4 2011-05-16 12:59:00       8.50   \n",
      "282157       1576         3089        48 2011-10-11 14:18:00       3.45   \n",
      "282158       2603         1156         2 2011-08-22 13:30:00       0.75   \n",
      "\n",
      "        CustomerID  Country  stockcodeencoded  countryencoded  \n",
      "0          14056.0       35          3.745719        0.045217  \n",
      "1          13098.0       35          1.973005        0.045217  \n",
      "2          15044.0       35          5.895338        0.045217  \n",
      "3          15525.0       35          0.824939        0.045217  \n",
      "4          13952.0       35          1.635841        0.045217  \n",
      "...            ...      ...               ...             ...  \n",
      "282154     17965.0       35          1.647468        0.045217  \n",
      "282155     16793.0       35          0.650000        0.045217  \n",
      "282156     14755.0       35          8.483321        0.045217  \n",
      "282157     14866.0       35          3.918043        0.045217  \n",
      "282158     17585.0       35          1.317568        0.045217  \n",
      "\n",
      "[282159 rows x 9 columns]\n"
     ]
    }
   ],
   "source": [
    "\n",
    "print(df_1.dtypes)\n",
    "   \n",
    "\n",
    "df_1.dtypes\n",
    "print(len(df_1))\n",
    "print(df_1)\n",
    "#df_1.InvoiceDate.month\n",
    "\n",
    "stockcodemean = df_1.groupby(['StockCode'])['UnitPrice'].mean()\n",
    "print(stockcodemean)\n",
    "countrymean = df_1.groupby(['Country'])['UnitPrice'].mean()\n",
    "print(stockcodemean)\n",
    "\n",
    "df_1.loc[:, \"stockcodeencoded\"] = df_1['StockCode'].map(stockcodemean)\n",
    "df_1.loc[:, \"countryencoded\"] = df_1['Country'].map(stockcodemean)\n",
    "\n",
    "print(df_1)\n",
    "\n",
    "\n",
    "\n",
    "\n",
    "\n",
    "\n",
    "\n",
    "\n",
    "\n"
   ]
  },
  {
   "cell_type": "code",
   "execution_count": 11,
   "metadata": {},
   "outputs": [],
   "source": [
    "cat_col = ['Country']#,'invoice_month','invoice_year']  #['StockCode','Description','CustomerID','Country' ] #,'invoice_month','invoice_year']\n",
    "con_col = ['Quantity','StockCode']\n",
    "target = ['UnitPrice']\n"
   ]
  },
  {
   "cell_type": "code",
   "execution_count": 12,
   "metadata": {},
   "outputs": [
    {
     "name": "stdout",
     "output_type": "stream",
     "text": [
      "['Country', 'Quantity', 'StockCode']\n",
      "   Country  Quantity  StockCode\n",
      "0       35         3       1583\n",
      "1       35         6       1300\n",
      "2       35         4       2178\n",
      "3       35         1       2115\n",
      "4       35        12       1210\n",
      "   UnitPrice\n",
      "0       3.75\n",
      "1       1.95\n",
      "2       5.95\n",
      "3       0.83\n",
      "4       1.65\n"
     ]
    }
   ],
   "source": [
    "from sklearn.pipeline import Pipeline\n",
    "from sklearn.model_selection import train_test_split\n",
    "\n",
    "features = cat_col + con_col\n",
    "print(features)\n",
    "\n",
    "df_feature = df_1[features]\n",
    "df_label = df_1[target]\n",
    "\n",
    "print(df_feature.head())\n",
    "print(df_label.head())\n",
    "\n",
    "\n"
   ]
  },
  {
   "cell_type": "code",
   "execution_count": 13,
   "metadata": {},
   "outputs": [],
   "source": [
    "# Train and test split\n",
    "X_train, X_test,y_train,y_test = train_test_split(df_feature,df_label, random_state=20)\n",
    "\n",
    "\n",
    "from sklearn.preprocessing import StandardScaler , OneHotEncoder \n",
    "from sklearn.compose import ColumnTransformer\n",
    "from sklearn.linear_model import LinearRegression\n",
    "from sklearn.linear_model import Lasso\n",
    "from sklearn.linear_model import ElasticNet\n",
    "from sklearn.tree import DecisionTreeRegressor\n",
    "from sklearn.neighbors import KNeighborsRegressor\n",
    "from sklearn.ensemble import GradientBoostingRegressor\n"
   ]
  },
  {
   "cell_type": "code",
   "execution_count": 14,
   "metadata": {},
   "outputs": [
    {
     "name": "stderr",
     "output_type": "stream",
     "text": [
      "/opt/anaconda3/lib/python3.8/site-packages/sklearn/ensemble/_gb.py:1454: DataConversionWarning: A column-vector y was passed when a 1d array was expected. Please change the shape of y to (n_samples, ), for example using ravel().\n",
      "  y = column_or_1d(y, warn=True)\n"
     ]
    },
    {
     "ename": "NameError",
     "evalue": "name 'metrics' is not defined",
     "output_type": "error",
     "traceback": [
      "\u001b[0;31m---------------------------------------------------------------------------\u001b[0m",
      "\u001b[0;31mNameError\u001b[0m                                 Traceback (most recent call last)",
      "\u001b[0;32m<ipython-input-14-1217e944391a>\u001b[0m in \u001b[0;36m<module>\u001b[0;34m\u001b[0m\n\u001b[1;32m     33\u001b[0m     \u001b[0mlr\u001b[0m\u001b[0;34m.\u001b[0m\u001b[0mfit\u001b[0m\u001b[0;34m(\u001b[0m\u001b[0mX_train\u001b[0m\u001b[0;34m,\u001b[0m\u001b[0my_train\u001b[0m\u001b[0;34m)\u001b[0m\u001b[0;34m\u001b[0m\u001b[0;34m\u001b[0m\u001b[0m\n\u001b[1;32m     34\u001b[0m     \u001b[0my_pred\u001b[0m \u001b[0;34m=\u001b[0m \u001b[0mlr\u001b[0m\u001b[0;34m.\u001b[0m\u001b[0mpredict\u001b[0m\u001b[0;34m(\u001b[0m\u001b[0mX_test\u001b[0m\u001b[0;34m)\u001b[0m\u001b[0;34m\u001b[0m\u001b[0;34m\u001b[0m\u001b[0m\n\u001b[0;32m---> 35\u001b[0;31m     \u001b[0mprint\u001b[0m\u001b[0;34m(\u001b[0m\u001b[0mreg\u001b[0m\u001b[0;34m,\u001b[0m\u001b[0mnp\u001b[0m\u001b[0;34m.\u001b[0m\u001b[0msqrt\u001b[0m\u001b[0;34m(\u001b[0m\u001b[0mmetrics\u001b[0m\u001b[0;34m.\u001b[0m\u001b[0mmean_squared_error\u001b[0m\u001b[0;34m(\u001b[0m\u001b[0my_test\u001b[0m\u001b[0;34m,\u001b[0m\u001b[0my_pred\u001b[0m\u001b[0;34m)\u001b[0m\u001b[0;34m)\u001b[0m\u001b[0;34m)\u001b[0m\u001b[0;34m\u001b[0m\u001b[0;34m\u001b[0m\u001b[0m\n\u001b[0m\u001b[1;32m     36\u001b[0m \u001b[0;34m\u001b[0m\u001b[0m\n\u001b[1;32m     37\u001b[0m \u001b[0;34m\u001b[0m\u001b[0m\n",
      "\u001b[0;31mNameError\u001b[0m: name 'metrics' is not defined"
     ]
    }
   ],
   "source": [
    "con_transformer = Pipeline(steps=[('scaler', StandardScaler())])\n",
    "cat_transformer = Pipeline(steps =[('onehotencoding',OneHotEncoder(handle_unknown='ignore'))])\n",
    "\n",
    "\n",
    "preprocessor = ColumnTransformer(\n",
    "    transformers=[\n",
    "    ('num', con_transformer , con_col),\n",
    "    ('cat',cat_transformer,cat_col)\n",
    "])\n",
    "\n",
    "\n",
    "\n",
    "lr = Pipeline(\n",
    "    steps=[('prep', preprocessor),\n",
    "           ('regression',LinearRegression())    \n",
    "])\n",
    "\n",
    "\n",
    "regressors = [#LinearRegression(),\n",
    "             #Lasso(),\n",
    "             #ElasticNet(),\n",
    "             #DecisionTreeRegressor(),\n",
    "             #KNeighborsRegressor(),\n",
    "             GradientBoostingRegressor()\n",
    "]\n",
    "\n",
    "\n",
    "for reg in regressors:\n",
    "    lr = Pipeline(\n",
    "        steps=[('prep', preprocessor),\n",
    "               ('regression',    reg)\n",
    "              ])\n",
    "    lr.fit(X_train,y_train)\n",
    "    y_pred = lr.predict(X_test)\n",
    "    print(reg,np.sqrt(metrics.mean_squared_error(y_test,y_pred)))\n",
    "    \n",
    "\n",
    "\n",
    "\n",
    "\n"
   ]
  },
  {
   "cell_type": "code",
   "execution_count": 16,
   "metadata": {},
   "outputs": [
    {
     "name": "stdout",
     "output_type": "stream",
     "text": [
      "19.76037640822139\n",
      "[4.28230515 3.25779621 3.41118394 ... 1.37750347 3.53220054 3.05149078]\n",
      "        UnitPrice\n",
      "0        3.461521\n",
      "1        3.567425\n",
      "2        1.321431\n",
      "3        4.785725\n",
      "4        4.020426\n",
      "...           ...\n",
      "122044   1.732310\n",
      "122045   1.526315\n",
      "122046   2.407753\n",
      "122047   5.044934\n",
      "122048   3.488508\n",
      "\n",
      "[122049 rows x 1 columns]\n",
      "122049\n"
     ]
    }
   ],
   "source": [
    "from sklearn import metrics\n",
    "df_test_feature = df_test[features]\n",
    "\n",
    "\n",
    "print(np.sqrt(metrics.mean_squared_error(y_test,y_pred)))\n",
    "print(y_pred)\n",
    "final_pred = pd.DataFrame(lr.predict(df_test_feature), columns=['UnitPrice'])\n",
    "\n",
    "print(final_pred)\n",
    "\n",
    "print(len(final_pred))\n",
    "\n",
    "final_pred.to_csv(r\"/Users/viveksavita/predictions7.csv\", index=False, header=True)"
   ]
  },
  {
   "cell_type": "code",
   "execution_count": null,
   "metadata": {},
   "outputs": [],
   "source": []
  },
  {
   "cell_type": "code",
   "execution_count": null,
   "metadata": {},
   "outputs": [],
   "source": [
    "from sklearn.model_selection import KFold\n",
    "from sklearn.model_selection import cross_val_score\n",
    "from sklearn.preprocessing import KBinsDiscretizer\n",
    "\n"
   ]
  },
  {
   "cell_type": "code",
   "execution_count": null,
   "metadata": {},
   "outputs": [],
   "source": [
    "kbins = KBinsDiscretizer(n_bins=10, encode='ordinal', strategy='quantile')\n",
    "data_trans = kbins.fit_transform(df_label)\n",
    "print(data_trans)\n",
    "bins = pd.DataFrame(data_trans, columns=['label'])\n",
    "bins.reset_index(inplace=True)\n",
    "print(bins)\n",
    "print(df_1)\n",
    "\n",
    "\n",
    "#plt.hist(data_trans, bins=10)\n",
    "#plt.show()"
   ]
  },
  {
   "cell_type": "code",
   "execution_count": null,
   "metadata": {},
   "outputs": [],
   "source": [
    "df_2 = pd.concat([df_1 , bins], axis=1 , join = 'inner' )\n",
    "print(df_2)\n",
    "\n",
    "stockcodemean = df_2.groupby(['StockCode'])['UnitPrice'].mean()\n",
    "print(stockcodemean)\n",
    "\n",
    "df_2.loc[:, \"stockcodeencoded\"] = df_2['StockCode'].map(stockcodemean)\n",
    "\n",
    "print(df_2)\n",
    "\n",
    "\n",
    "\n",
    "\n"
   ]
  },
  {
   "cell_type": "code",
   "execution_count": null,
   "metadata": {},
   "outputs": [],
   "source": []
  }
 ],
 "metadata": {
  "kernelspec": {
   "display_name": "Python 3",
   "language": "python",
   "name": "python3"
  },
  "language_info": {
   "codemirror_mode": {
    "name": "ipython",
    "version": 3
   },
   "file_extension": ".py",
   "mimetype": "text/x-python",
   "name": "python",
   "nbconvert_exporter": "python",
   "pygments_lexer": "ipython3",
   "version": "3.8.3"
  }
 },
 "nbformat": 4,
 "nbformat_minor": 4
}
